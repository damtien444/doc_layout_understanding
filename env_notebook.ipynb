{
 "cells": [
  {
   "cell_type": "code",
   "execution_count": null,
   "metadata": {},
   "outputs": [],
   "source": [
    "!pip3 install torch torchvision torchaudio --extra-index-url https://download.pytorch.org/whl/cu116\n",
    "\n",
    "!pip install -q git+https://github.com/huggingface/transformers.git\n",
    "\n",
    "!pip install -q datasets seqeval \n",
    "\n",
    "!python -m pip install -q 'git+https://github.com/facebookresearch/detectron2.git'\n",
    "\n",
    "!pip install opencv-python\n"
   ]
  },
  {
   "cell_type": "code",
   "execution_count": null,
   "metadata": {},
   "outputs": [],
   "source": []
  }
 ],
 "metadata": {
  "kernelspec": {
   "display_name": "layoutxlm",
   "language": "python",
   "name": "python3"
  },
  "language_info": {
   "codemirror_mode": {
    "name": "ipython",
    "version": 3
   },
   "file_extension": ".py",
   "mimetype": "text/x-python",
   "name": "python",
   "nbconvert_exporter": "python",
   "pygments_lexer": "ipython3",
   "version": "3.8.16"
  },
  "orig_nbformat": 4,
  "vscode": {
   "interpreter": {
    "hash": "ee10ada10eaffa123745a4850de01092dd1abfc9b5bee62546759309b3cd8a49"
   }
  }
 },
 "nbformat": 4,
 "nbformat_minor": 2
}
