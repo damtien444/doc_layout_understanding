{
 "cells": [
  {
   "cell_type": "markdown",
   "source": [
    " # Dựa trên report sau về matching string:\n",
    "\n",
    "https://gitlab.ftech.ai/computer-vision/projects/ekyc/id-card-kie/-/blob/tiendq/rlie-vocabulary/rlie_vocabulary/vocab_dev.ipynb\n",
    "\n",
    " # Dựa trên report sau về cách gắn tự động các instance theo một structure sẵn có sử dụng matching string:\n",
    "\n",
    "https://gitlab.ftech.ai/computer-vision/projects/ekyc/id-card-kie/-/blob/tiendq/re_tagging_algorithm/tests/test_utils/RETAG_ALGORITHM.ipynb\n",
    "\n"
   ],
   "metadata": {
    "collapsed": false
   }
  },
  {
   "cell_type": "code",
   "execution_count": 1,
   "outputs": [],
   "source": [
    "# receive instance list from model\n",
    "\n",
    "import pickle\n",
    "\n",
    "with open('/home/tiendq/PycharmProjects/DeepLearningDocReconstruction/3_post-processing/example_output_for_an_image.bin', 'rb') as handle:\n",
    "    boxes = pickle.load(handle)"
   ],
   "metadata": {
    "collapsed": false
   }
  },
  {
   "cell_type": "code",
   "execution_count": 36,
   "outputs": [],
   "source": [
    "import torch\n",
    "\n",
    "id2label = {\n",
    "    0: \"title\",\n",
    "    1: \"explanation\",\n",
    "    2: \"answer\",\n",
    "    3: \"super_title\",\n",
    "    4: \"header\",\n",
    "    5: \"footer\",\n",
    "    6: \"ending\",\n",
    "    7: \"heading\",\n",
    "    8: \"starting\"\n",
    "  }\n",
    "\n",
    "label2id= {\n",
    "    \"answer\": 2,\n",
    "    \"ending\": 6,\n",
    "    \"explanation\": 1,\n",
    "    \"footer\": 5,\n",
    "    \"header\": 4,\n",
    "    \"heading\": 7,\n",
    "    \"starting\": 8,\n",
    "    \"super_title\": 3,\n",
    "    \"title\": 0\n",
    "  }\n",
    "\n",
    "next_of_super_title = [3, 0, 2, 1, 5, 6, 7, 8]\n",
    "next_of_title = [0, 2, 1, 5, 6, 7, 8]\n",
    "next_of_answer_or_explanation = [2, 1, 5, 6, 7, 8]\n",
    "\n",
    "question_def = [0, 2, 1]\n",
    "super_question = [3, question_def, 7]\n",
    "\n",
    "merge_no_string_mark = [1, 3, 4, 5, 6, 7, 8]\n",
    "merge_with_string_mark = [0, 2]"
   ],
   "metadata": {
    "collapsed": false
   }
  },
  {
   "cell_type": "code",
   "execution_count": 3,
   "outputs": [],
   "source": [
    "def prepare_boxes(data):\n",
    "    list_up_left = []\n",
    "    list_down_right = []\n",
    "    text_list = []\n",
    "    label_list = []\n",
    "    for box, box_info in data.items():\n",
    "        # bbox_coordinate = box\n",
    "        up_left = [box[0], box[1]]\n",
    "        down_right = [box[2], box[3]]\n",
    "        # ocr_text = box_info\n",
    "        text = box_info['original_string']\n",
    "        label = box_info['box_label']\n",
    "\n",
    "        list_up_left.append(up_left)\n",
    "        list_down_right.append(down_right)\n",
    "        text_list.append(text)\n",
    "        label_list.append(label)\n",
    "\n",
    "    assert len(list_up_left) == len(list_down_right)\n",
    "    bb = list(zip(list_up_left, list_down_right, text_list, label_list))\n",
    "\n",
    "    # sort bounding box vertically\n",
    "    bb = sorted(bb, key=lambda x: (x[0][1]))\n",
    "\n",
    "    return bb, list_up_left, list_down_right"
   ],
   "metadata": {
    "collapsed": false
   }
  },
  {
   "cell_type": "code",
   "execution_count": 4,
   "outputs": [
    {
     "data": {
      "text/plain": "{(183,\n  118,\n  377,\n  140): {'token_list': [('(', 8),\n   ('Đ', 8),\n   ('ề', 8),\n   ('thi', 8),\n   ('có', 8),\n   ('05', 8),\n   ('trang', 8),\n   (')', 8)], 'original_string': '(Đề thi có 05 trang)', 'box_label': 8},\n (159,\n  344,\n  659,\n  365): {'token_list': [('D', 2),\n   ('.', 2),\n   ('Phân', 2),\n   ('chia', 2),\n   ('phạm', 2),\n   ('vi', 2),\n   ('ảnh', 2),\n   ('hưởng', 2),\n   ('ở', 2),\n   ('châu', 2),\n   ('Âu', 2),\n   (',', 2),\n   ('châu', 2),\n   ('Á', 2),\n   ('.',\n    2)], 'original_string': 'D. Phân chia phạm vi ảnh hưởng ở châu Âu, châu Á.', 'box_label': 2},\n (485,\n  118,\n  931,\n  140): {'token_list': [('Thời', 8),\n   ('gian', 8),\n   ('làm', 8),\n   ('bài', 8),\n   (':', 8),\n   ('50', 8),\n   ('phút', 8),\n   (',', 8),\n   ('không', 8),\n   ('kể', 8),\n   ('thời', 8),\n   ('gian',\n    8)], 'original_string': 'Thời gian làm bài: 50 phút, không kể thời gian', 'box_label': 8},\n (669, 138, 748, 159): {'token_list': [('phát', 8), ('để', 8)],\n  'original_string': 'phát để',\n  'box_label': 8},\n (630,\n  180,\n  774,\n  198): {'token_list': [('Mã', 8),\n   ('đề', 8),\n   ('thi', 8),\n   ('(', 8),\n   ('01', 8)], 'original_string': 'Mã đề thi (01', 'box_label': 8},\n (114,\n  219,\n  730,\n  239): {'token_list': [('Họ', 8),\n   ('và', 8),\n   ('tên', 8),\n   ('thí', 8),\n   ('sinh', 8),\n   (':', 8),\n   ('.......', 8),\n   ('................', 8),\n   ('................', 8),\n   ('................', 8),\n   ('................',\n    8)], 'original_string': 'Họ và tên thí sinh: .......................................................................', 'box_label': 8},\n (251, 78, 310, 98): {'token_list': [('T', 8), ('Ạ', 8), ('O', 8)],\n  'original_string': 'TẠO',\n  'box_label': 8},\n (113,\n  365,\n  926,\n  386): {'token_list': [('Câu', 0),\n   ('2.', 0),\n   ('Ngày', 0),\n   ('24', 0),\n   ('-10-', 0),\n   ('1945', 0),\n   (',', 0),\n   ('sau', 0),\n   ('khi', 0),\n   ('Quốc', 0),\n   ('hội', 0),\n   ('các', 0),\n   ('nước', 0),\n   ('thành', 0),\n   ('viên', 0),\n   ('phê', 0),\n   ('chuẩn', 0),\n   (',', 0),\n   ('bản', 0),\n   ('Hi', 0),\n   ('ến',\n    0)], 'original_string': 'Câu 2. Ngày 24-10-1945, sau khi Quốc hội các nước thành viên phê chuẩn, bản Hiến', 'box_label': 0},\n (115,\n  387,\n  373,\n  408): {'token_list': [('chương', 0),\n   ('của', 0),\n   ('Liên', 0),\n   ('hợp', 0),\n   ('quốc',\n    0)], 'original_string': 'chương của Liên hợp quốc', 'box_label': 0},\n (160,\n  407,\n  443,\n  428): {'token_list': [('A', 2),\n   ('.', 2),\n   ('được', 2),\n   ('bổ', 2),\n   ('sung', 2),\n   (',', 2),\n   ('hoàn', 2),\n   ('chỉnh', 2),\n   ('.',\n    2)], 'original_string': 'A. được bổ sung, hoàn chỉnh.', 'box_label': 2},\n (159,\n  428,\n  408,\n  449): {'token_list': [('C', 2),\n   ('.', 2),\n   ('chính', 2),\n   ('thức', 2),\n   ('có', 2),\n   ('hiệu', 2),\n   ('lực', 2),\n   ('.', 2)], 'original_string': 'C. chính thức có hiệu lực.', 'box_label': 2},\n (160,\n  645,\n  745,\n  666): {'token_list': [('C', 2),\n   (',', 2),\n   ('thực', 2),\n   ('hiện', 2),\n   ('Kế', 2),\n   ('hoạch', 2),\n   ('M', 2),\n   ('ács', 2),\n   ('an', 2),\n   (',', 2),\n   ('giúp', 2),\n   ('Tây', 2),\n   ('Âu', 2),\n   ('phục', 2),\n   ('hồi', 2),\n   ('kinh', 2),\n   ('tế', 2),\n   ('.',\n    2)], 'original_string': 'C, thực hiện Kế hoạch Mácsan, giúp Tây Âu phục hồi kinh tế.', 'box_label': 2},\n (537,\n  406,\n  810,\n  429): {'token_list': [('È', 2),\n   (',', 2),\n   ('chính', 2),\n   ('thức', 2),\n   ('được', 2),\n   ('công', 2),\n   ('bố', 2),\n   ('.',\n    2)], 'original_string': 'È, chính thức được công bố.', 'box_label': 2},\n (160,\n  666,\n  756,\n  687): {'token_list': [('D', 2),\n   ('.', 2),\n   ('viện', 2),\n   ('trợ', 2),\n   ('khẩn', 2),\n   ('cấp', 2),\n   ('400', 2),\n   ('triệu', 2),\n   ('USD', 2),\n   ('cho', 2),\n   ('Hi', 2),\n   ('L', 2),\n   ('ạp', 2),\n   ('và', 2),\n   ('Th', 2),\n   ('ổ', 2),\n   ('Nh', 2),\n   ('ĩ', 2),\n   ('K', 2),\n   ('ì', 2),\n   ('.',\n    2)], 'original_string': 'D. viện trợ khẩn cấp 400 triệu USD cho Hi Lạp và Thổ Nhĩ Kì.', 'box_label': 2},\n (160,\n  794,\n  862,\n  814): {'token_list': [('D', 2),\n   ('.', 2),\n   ('thúc', 2),\n   ('đẩy', 2),\n   ('tốc', 2),\n   ('độ', 2),\n   ('tăng', 2),\n   ('trưởng', 2),\n   ('của', 2),\n   ('các', 2),\n   ('ngành', 2),\n   ('công', 2),\n   ('nghiệp', 2),\n   ('nhẹ', 2),\n   ('trong', 2),\n   ('nước', 2),\n   ('.',\n    2)], 'original_string': 'D. thúc đẩy tốc độ tăng trưởng của các ngành công nghiệp nhẹ trong nước.', 'box_label': 2},\n (114,\n  688,\n  932,\n  709): {'token_list': [('Cầu', 2),\n   ('5.', 2),\n   ('Sau', 2),\n   ('khi', 2),\n   ('giành', 2),\n   ('được', 2),\n   ('độc', 2),\n   ('lập', 2),\n   (',', 2),\n   ('nhóm', 2),\n   ('năm', 2),\n   ('nước', 2),\n   ('sáng', 2),\n   ('lập', 2),\n   ('ASEAN', 2),\n   ('thực', 2),\n   ('hiện', 2),\n   ('chiến',\n    2)], 'original_string': 'Cầu 5. Sau khi giành được độc lập, nhóm năm nước sáng lập ASEAN thực hiện chiến', 'box_label': 2},\n (114,\n  815,\n  926,\n  836): {'token_list': [('Câu', 0),\n   ('6.', 0),\n   ('Ngoài', 0),\n   ('việc', 0),\n   ('giúp', 0),\n   ('các', 0),\n   ('nước', 0),\n   ('Tây', 0),\n   ('Âu', 0),\n   ('phục', 0),\n   ('hồi', 0),\n   ('nền', 0),\n   ('kinh', 0),\n   ('tế', 0),\n   (',', 0),\n   ('Kế', 0),\n   ('hoạch', 0),\n   ('M', 0),\n   ('ács', 0),\n   ('an', 0),\n   ('của',\n    0)], 'original_string': 'Câu 6. Ngoài việc giúp các nước Tây Âu phục hồi nền kinh tế, Kế hoạch Mácsan của', 'box_label': 0},\n (114,\n  710,\n  459,\n  731): {'token_list': [('T', 2),\n   ('ược', 2),\n   ('kinh', 2),\n   ('tế', 2),\n   ('hướng', 2),\n   ('nội', 2),\n   ('với', 2),\n   ('mục', 2),\n   ('tiêu',\n    2)], 'original_string': 'Tược kinh tế hướng nội với mục tiêu', 'box_label': 2},\n (160,\n  773,\n  849,\n  793): {'token_list': [('C', 2),\n   ('.', 2),\n   ('nhanh', 2),\n   ('chóng', 2),\n   ('vươn', 2),\n   ('lên', 2),\n   ('trở', 2),\n   ('thành', 2),\n   ('những', 2),\n   ('nước', 2),\n   ('công', 2),\n   ('nghiệp', 2),\n   ('mới', 2),\n   ('(', 2),\n   ('NIC', 2),\n   ('s', 2),\n   (').',\n    2)], 'original_string': 'C. nhanh chóng vươn lên trở thành những nước công nghiệp mới (NICs).', 'box_label': 2},\n (160,\n  730,\n  833,\n  750): {'token_list': [('À', 2),\n   ('.', 2),\n   ('khô', 2),\n   ('i', 2),\n   ('phục', 2),\n   ('sự', 2),\n   ('phát', 2),\n   ('triển', 2),\n   ('của', 2),\n   ('các', 2),\n   ('ngành', 2),\n   ('công', 2),\n   ('nghiệp', 2),\n   ('nặng', 2),\n   ('ở', 2),\n   ('các', 2),\n   ('nước', 2),\n   ('.',\n    2)], 'original_string': 'À. khôi phục sự phát triển của các ngành công nghiệp nặng ở các nước.', 'box_label': 2},\n (160,\n  751,\n  840,\n  771): {'token_list': [('B', 2),\n   ('.', 2),\n   ('nhanh', 2),\n   ('chóng', 2),\n   ('xóa', 2),\n   ('bỏ', 2),\n   ('nghèo', 2),\n   ('n', 2),\n   ('àn', 2),\n   (',', 2),\n   ('lạc', 2),\n   ('hậu', 2),\n   (',', 2),\n   ('xây', 2),\n   ('dựng', 2),\n   ('nền', 2),\n   ('kinh', 2),\n   ('tế', 2),\n   ('tự', 2),\n   ('chủ', 2),\n   ('.',\n    2)], 'original_string': 'B. nhanh chóng xóa bỏ nghèo nàn, lạc hậu, xây dựng nền kinh tế tự chủ.', 'box_label': 2},\n (537,\n  428,\n  830,\n  450): {'token_list': [('D', 2),\n   ('.', 2),\n   ('được', 2),\n   ('chính', 2),\n   ('thức', 2),\n   ('thông', 2),\n   ('qua', 2),\n   ('.',\n    2)], 'original_string': 'D. được chính thức thông qua.', 'box_label': 2},\n (113,\n  449,\n  909,\n  471): {'token_list': [('Câu', 0),\n   ('3.', 0),\n   ('Những', 0),\n   ('năm', 0),\n   ('đầu', 0),\n   ('sau', 0),\n   ('khi', 0),\n   ('Liên', 0),\n   ('X', 0),\n   ('ô', 0),\n   ('tan', 0),\n   ('', 0),\n   ('rã', 0),\n   (',', 0),\n   ('Diện', 0),\n   ('bang', 0),\n   ('Nga', 0),\n   ('thực', 0),\n   ('hiện', 0),\n   ('chính', 0),\n   ('sách',\n    0)], 'original_string': 'Câu 3. Những năm đầu sau khi Liên Xô tan rã, Diện bang Nga thực hiện chính sách', 'box_label': 0},\n (159,\n  559,\n  759,\n  579): {'token_list': [('D', 2),\n   ('.', 2),\n   ('tăng', 2),\n   ('cường', 2),\n   ('hợp', 2),\n   ('lắc', 2),\n   ('khoa', 2),\n   ('học', 2),\n   ('kĩ', 2),\n   ('thuật', 2),\n   ('với', 2),\n   ('các', 2),\n   ('nước', 2),\n   ('châu', 2),\n   ('Âu', 2),\n   ('.',\n    2)], 'original_string': 'D. tăng cường hợp lắc khoa học kĩ thuật với các nước châu Âu.', 'box_label': 2},\n (115,\n  580,\n  745,\n  601): {'token_list': [('Câu', 0),\n   ('4.', 0),\n   ('Tại', 0),\n   ('Quốc', 0),\n   ('hội', 0),\n   ('M', 0),\n   ('ĩ', 0),\n   ('(12', 0),\n   ('-3', 0),\n   ('-', 0),\n   ('1947', 0),\n   ('),', 0),\n   ('Tổng', 0),\n   ('thống', 0),\n   ('Tru', 0),\n   ('man', 0),\n   ('đề', 0),\n   ('nghị',\n    0)], 'original_string': 'Câu 4. Tại Quốc hội Mĩ (12-3-1947), Tổng thống Truman đề nghị', 'box_label': 0},\n (160,\n  602,\n  741,\n  622): {'token_list': [('A', 2),\n   ('.', 2),\n   ('thành', 2),\n   ('lập', 2),\n   ('Tổ', 2),\n   ('chức', 2),\n   ('Hiệp', 2),\n   ('ước', 2),\n   ('Bắc', 2),\n   ('Đại', 2),\n   ('Tây', 2),\n   ('Dương', 2),\n   ('(', 2),\n   ('NATO', 2),\n   (').',\n    2)], 'original_string': 'A. thành lập Tổ chức Hiệp ước Bắc Đại Tây Dương (NATO).', 'box_label': 2},\n (160,\n  624,\n  736,\n  644): {'token_list': [('B', 2),\n   ('.', 2),\n   ('giúp', 2),\n   ('đỡ', 2),\n   ('nước', 2),\n   ('Pháp', 2),\n   ('kéo', 2),\n   ('dài', 2),\n   ('cuộc', 2),\n   ('chiến', 2),\n   ('tranh', 2),\n   ('Đông', 2),\n   ('Dương', 2),\n   ('.',\n    2)], 'original_string': 'B. giúp đỡ nước Pháp kéo dài cuộc chiến tranh Đông Dương.', 'box_label': 2},\n (115,\n  471,\n  512,\n  493): {'token_list': [('đối', 0),\n   ('ngoại', 0),\n   ('ng', 0),\n   ('ả', 0),\n   ('về', 0),\n   ('phương', 0),\n   ('Tây', 0),\n   ('với', 0),\n   ('hi', 0),\n   ('vọng',\n    0)], 'original_string': 'đối ngoại ngả về phương Tây với hi vọng', 'box_label': 0},\n (160,\n  515,\n  631,\n  536): {'token_list': [('B', 2),\n   ('.', 2),\n   ('xây', 2),\n   ('dựng', 2),\n   ('một', 2),\n   ('liên', 2),\n   ('minh', 2),\n   ('kinh', 2),\n   ('tế', 2),\n   ('lớn', 2),\n   ('ở', 2),\n   ('châu', 2),\n   ('Âu', 2),\n   ('.', 2),\n   ('.',\n    2)], 'original_string': 'B. xây dựng một liên minh kinh tế lớn ở châu Âu.', 'box_label': 2},\n (159,\n  537,\n  738,\n  558): {'token_list': [('C', 2),\n   ('.', 2),\n   ('nhận', 2),\n   ('được', 2),\n   ('sự', 2),\n   ('ủng', 2),\n   ('hộ', 2),\n   ('về', 2),\n   ('chính', 2),\n   ('trị', 2),\n   ('và', 2),\n   ('sự', 2),\n   ('viện', 2),\n   ('trợ', 2),\n   ('về', 2),\n   ('kinh', 2),\n   ('tế', 2),\n   ('.', 2),\n   ('C', 2),\n   ('.', 2),\n   ('nhận', 2),\n   ('được', 2),\n   ('sự', 2),\n   ('ủng', 2),\n   ('hộ', 2),\n   ('về', 2),\n   ('chính', 2),\n   ('trị', 2),\n   ('và', 2),\n   ('sự', 2),\n   ('viện', 2),\n   ('trợ', 2),\n   ('về', 2),\n   ('kinh', 2),\n   ('tế', 2),\n   ('.',\n    2)], 'original_string': 'C. nhận được sự ủng hộ về chính trị và sự viện trợ về kinh tế.', 'box_label': 2},\n (160,\n  494,\n  609,\n  515): {'token_list': [('A', 2),\n   ('.', 2),\n   ('thành', 2),\n   ('lập', 2),\n   ('một', 2),\n   ('liên', 2),\n   ('minh', 2),\n   ('chính', 2),\n   ('trị', 2),\n   ('ở', 2),\n   ('châu', 2),\n   ('Âu', 2),\n   ('.', 2),\n   ('A', 2),\n   ('.', 2),\n   ('thành', 2),\n   ('lập', 2),\n   ('một', 2),\n   ('liên', 2),\n   ('minh', 2),\n   ('chính', 2),\n   ('trị', 2),\n   ('ở', 2),\n   ('châu', 2),\n   ('Âu', 2),\n   ('.',\n    2)], 'original_string': 'A. thành lập một liên minh chính trị ở châu Âu.', 'box_label': 2},\n (508,\n  97,\n  908,\n  119): {'token_list': [('Bài', 8),\n   ('thi', 8),\n   (':', 8),\n   ('Khoa', 8),\n   ('học', 8),\n   ('xã', 8),\n   ('hội', 8),\n   (';', 8),\n   ('M', 8),\n   ('ô', 8),\n   ('ôn', 8),\n   (':', 8),\n   ('Lịch', 8),\n   ('sử', 8),\n   ('Bài', 8),\n   ('thi', 8),\n   (':', 8),\n   ('Khoa', 8),\n   ('học', 8),\n   ('xã', 8),\n   ('hội', 8),\n   (';', 8),\n   ('M', 8),\n   ('ô', 8),\n   ('ôn', 8),\n   (':', 8),\n   ('Lịch', 8),\n   ('sử',\n    8)], 'original_string': 'Bài thi: Khoa học xã hội;Môôn: Lịch sử', 'box_label': 8},\n (473,\n  60,\n  941,\n  82): {'token_list': [('KY', 8),\n   ('', 8),\n   ('THI', 8),\n   ('TR', 8),\n   ('UNG', 8),\n   ('HỌC', 8),\n   ('PH', 8),\n   ('Ô', 8),\n   ('THÔNG', 8),\n   ('QUỐC', 8),\n   ('KY', 8),\n   ('', 8),\n   ('THI', 8),\n   ('TR', 8),\n   ('UNG', 8),\n   ('HỌC', 8),\n   ('PH', 8),\n   ('Ô', 8),\n   ('THÔNG', 8),\n   ('QUỐC',\n    8)], 'original_string': 'KY THI TRUNG HỌC PHÔ THÔNG QUỐC', 'box_label': 8},\n (147,\n  60,\n  413,\n  82): {'token_list': [('B', 8),\n   ('Ộ', 8),\n   ('GI', 8),\n   ('À', 8),\n   ('O', 8),\n   ('D', 8),\n   ('Ụ', 8),\n   ('C', 8),\n   ('VÀ', 8),\n   ('Đ', 8),\n   ('ẢO', 8),\n   ('B', 8),\n   ('Ộ', 8),\n   ('GI', 8),\n   ('À', 8),\n   ('O', 8),\n   ('D', 8),\n   ('Ụ', 8),\n   ('C', 8),\n   ('VÀ', 8),\n   ('Đ', 8),\n   ('ẢO', 8)], 'original_string': 'BỘ GIÀO DỤC VÀ ĐẢO', 'box_label': 8},\n (159,\n  279,\n  508,\n  300): {'token_list': [('A', 2),\n   ('.', 2),\n   ('Thành', 2),\n   ('lập', 2),\n   ('tổ', 2),\n   ('chức', 2),\n   ('Liên', 2),\n   ('hợp', 2),\n   ('quốc', 2),\n   ('.', 2),\n   ('A', 2),\n   ('.', 2),\n   ('Thành', 2),\n   ('lập', 2),\n   ('tổ', 2),\n   ('chức', 2),\n   ('Liên', 2),\n   ('hợp', 2),\n   ('quốc', 2),\n   ('.',\n    2)], 'original_string': 'A. Thành lập tổ chức Liên hợp quốc.', 'box_label': 2},\n (159,\n  301,\n  532,\n  322): {'token_list': [('B', 2),\n   ('.', 2),\n   ('Giải', 2),\n   ('giáp', 2),\n   ('quân', 2),\n   ('Nhật', 2),\n   ('ở', 2),\n   ('Đông', 2),\n   ('Dương', 2),\n   ('.', 2),\n   ('B', 2),\n   ('.', 2),\n   ('Giải', 2),\n   ('giáp', 2),\n   ('quân', 2),\n   ('Nhật', 2),\n   ('ở', 2),\n   ('Đông', 2),\n   ('Dương', 2),\n   ('.',\n    2)], 'original_string': 'B. Giải giáp quân Nhật ở Đông Dương.', 'box_label': 2},\n (159,\n  322,\n  529,\n  343): {'token_list': [('C', 2),\n   ('.', 2),\n   ('Tiêu', 2),\n   ('diệt', 2),\n   ('tận', 2),\n   ('gốc', 2),\n   ('chủ', 2),\n   ('nghĩa', 2),\n   ('phát', 2),\n   ('x', 2),\n   ('ít', 2),\n   ('.', 2),\n   ('C', 2),\n   ('.', 2),\n   ('Tiêu', 2),\n   ('diệt', 2),\n   ('tận', 2),\n   ('gốc', 2),\n   ('chủ', 2),\n   ('nghĩa', 2),\n   ('phát', 2),\n   ('x', 2),\n   ('ít', 2),\n   ('.',\n    2)], 'original_string': 'C. Tiêu diệt tận gốc chủ nghĩa phát xít.', 'box_label': 2},\n (115,\n  238,\n  251,\n  258): {'token_list': [('Số', 8),\n   ('báo', 8),\n   ('danh', 8),\n   (':', 8),\n   ('Số', 8),\n   ('báo', 8),\n   ('danh', 8),\n   (':', 8)], 'original_string': 'Số báo danh:', 'box_label': 8},\n (114,\n  257,\n  794,\n  278): {'token_list': [('Câu', 0),\n   ('1.', 0),\n   ('Hội', 0),\n   ('nghị', 0),\n   ('I', 0),\n   ('anta', 0),\n   ('(2', 0),\n   ('-', 0),\n   ('1945', 0),\n   (')', 0),\n   ('không', 0),\n   ('đưa', 0),\n   ('ra', 0),\n   ('quyết', 0),\n   ('định', 0),\n   ('nào', 0),\n   ('dưới', 0),\n   ('đây', 0),\n   ('?', 0),\n   ('Câu', 0),\n   ('1.', 0),\n   ('Hội', 0),\n   ('nghị', 0),\n   ('I', 0),\n   ('anta', 0),\n   ('(2', 0),\n   ('-', 0),\n   ('1945', 0),\n   (')', 0),\n   ('không', 0),\n   ('đưa', 0),\n   ('ra', 0),\n   ('quyết', 0),\n   ('định', 0),\n   ('nào', 0),\n   ('dưới', 0),\n   ('đây', 0),\n   ('?',\n    0)], 'original_string': 'Câu 1. Hội nghị Ianta (2-1945) không đưa ra quyết định nào dưới đây?', 'box_label': 0},\n (114,\n  238,\n  707,\n  258): {'token_list': [('Số', 8),\n   ('báo', 8),\n   ('danh', 8),\n   (':', 8),\n   (':', 8),\n   ('.........', 8),\n   ('Số', 8),\n   ('báo', 8),\n   ('danh', 8),\n   (':', 8),\n   (':', 8),\n   ('.........', 8),\n   ('................', 8),\n   ('................', 8),\n   ('................', 8),\n   ('................',\n    8)], 'original_string': 'Số báo danh:: .........................................................................', 'box_label': 8},\n (115,\n  219,\n  305,\n  240): {'token_list': [('Họ', 8),\n   ('và', 8),\n   ('tên', 8),\n   ('thí', 8),\n   ('sinh', 8),\n   (':', 8)], 'original_string': 'Họ và tên thí sinh:', 'box_label': 8},\n (159,\n  921,\n  725,\n  943): {'token_list': [('D', 2),\n   ('.', 2),\n   ('tổ', 2),\n   ('chức', 2),\n   ('chính', 2),\n   ('trị', 2),\n   ('-', 2),\n   ('qu', 2),\n   ('ân', 2),\n   ('sự', 2),\n   ('chống', 2),\n   ('lại', 2),\n   ('', 2),\n   ('phe', 2),\n   ('xã', 2),\n   ('hội', 2),\n   ('chủ', 2),\n   ('nghĩa', 2),\n   ('.',\n    2)], 'original_string': 'D. tổ chức chính trị-quân sự chống lại phe xã hội chủ nghĩa.', 'box_label': 2},\n (160,\n  900,\n  726,\n  921): {'token_list': [('C', 2),\n   ('.', 2),\n   ('liên', 2),\n   ('minh', 2),\n   ('chính', 2),\n   ('trị', 2),\n   ('chống', 2),\n   ('Liên', 2),\n   ('X', 2),\n   ('ô', 2),\n   ('và', 2),\n   ('các', 2),\n   ('nước', 2),\n   ('Đông', 2),\n   ('Âu', 2),\n   ('.',\n    2)], 'original_string': 'C. liên minh chính trị chống Liên Xô và các nước Đông Âu.', 'box_label': 2},\n (160,\n  878,\n  720,\n  899): {'token_list': [('B', 2),\n   ('.', 2),\n   ('liên', 2),\n   ('minh', 2),\n   ('quân', 2),\n   ('sự', 2),\n   ('chống', 2),\n   ('Liên', 2),\n   ('X', 2),\n   ('ô', 2),\n   ('và', 2),\n   ('các', 2),\n   ('nước', 2),\n   ('Đông', 2),\n   ('Âu', 2),\n   ('.',\n    2)], 'original_string': 'B. liên minh quân sự chống Liên Xô và các nước Đông Âu.', 'box_label': 2},\n (160,\n  857,\n  714,\n  878): {'token_list': [('A', 2),\n   ('.', 2),\n   ('liên', 2),\n   ('minh', 2),\n   ('kinh', 2),\n   ('tế', 2),\n   ('đối', 2),\n   ('lập', 2),\n   ('với', 2),\n   ('các', 2),\n   ('nước', 2),\n   ('xã', 2),\n   ('hội', 2),\n   ('chủ', 2),\n   ('nghĩa', 2),\n   ('.',\n    2)], 'original_string': 'A. liên minh kinh tế đối lập với các nước xã hội chủ nghĩa.', 'box_label': 2},\n (115,\n  838,\n  598,\n  859): {'token_list': [('M', 0),\n   ('ĩ', 0),\n   ('(19', 0),\n   ('47)', 0),\n   ('còn', 0),\n   ('nhằm', 0),\n   ('tập', 0),\n   ('hợp', 0),\n   ('các', 0),\n   ('nước', 0),\n   ('Tây', 0),\n   ('Âu', 0),\n   ('vào',\n    0)], 'original_string': 'Mĩ (1947) còn nhằm tập hợp các nước Tây Âu vào', 'box_label': 0},\n (160,\n  98,\n  400,\n  121): {'token_list': [('Đ', 8),\n   ('Ề', 8),\n   ('', 8),\n   ('THI', 8),\n   ('TH', 8),\n   ('Ử', 8),\n   ('NG', 8),\n   ('HI', 8),\n   ('Ệ', 8),\n   ('M', 8)], 'original_string': 'ĐỀ THI THỬ NGHIỆM', 'box_label': 8},\n (625,\n  78,\n  789,\n  95): {'token_list': [('', 8),\n   ('GIA', 8),\n   ('N', 8),\n   ('Ă', 8),\n   ('M', 8),\n   ('2017', 8)], 'original_string': 'GIA NĂM 2017', 'box_label': 8},\n (75,\n  0,\n  266,\n  19): {'token_list': [('VI', 4),\n   ('ET', 4),\n   (',', 4),\n   ('JA', 4),\n   ('CK', 4),\n   ('.', 4),\n   ('COM', 4)], 'original_string': 'VIET,JACK.COM', 'box_label': 4},\n (342,\n  0,\n  835,\n  20): {'token_list': [('Học', 4),\n   ('trực', 4),\n   ('tuyến', 4),\n   (':', 4),\n   ('KH', 4),\n   ('OA', 4),\n   ('HỌC', 4),\n   ('.', 4),\n   ('VIE', 4),\n   ('T', 4),\n   ('JA', 4),\n   ('CK', 4),\n   ('.', 4),\n   ('COM',\n    4)], 'original_string': 'Học trực tuyến: KHOA HỌC.VIETJACK.COM', 'box_label': 4},\n (74,\n  949,\n  378,\n  969): {'token_list': [('Facebook', 5),\n   (':', 5),\n   ('Học', 5),\n   ('cùng', 5),\n   ('Viet', 5),\n   ('jack',\n    5)], 'original_string': 'Facebook: Học cùng Vietjack', 'box_label': 5},\n (518,\n  949,\n  805,\n  970): {'token_list': [('Youtube', 5),\n   (':', 5),\n   ('H', 5),\n   ('ọc', 5),\n   ('cùng', 5),\n   ('Viet', 5),\n   ('jack',\n    5)], 'original_string': 'Youtube:Học cùng Vietjack', 'box_label': 5}}"
     },
     "execution_count": 4,
     "metadata": {},
     "output_type": "execute_result"
    }
   ],
   "source": [
    "boxes"
   ],
   "metadata": {
    "collapsed": false
   }
  },
  {
   "cell_type": "code",
   "execution_count": 5,
   "outputs": [],
   "source": [
    "import numpy as np\n",
    "import random\n",
    "\n",
    "def compute_line_unit(list_up_left, list_down_right):\n",
    "    \"\"\"\n",
    "    This function computes the line unit corresponding to two different points. The function takes two lists list_down_right and list_up_left as the input, calculates the absolute value of the difference between them (along the x-axis), takes the median of this value and returns it as a float\n",
    "\n",
    "    :param list_down_right:\n",
    "    :param list_up_left:\n",
    "    :return: float\n",
    "    \"\"\"\n",
    "    # idx = random.choice(range(len(list_down_right)))\n",
    "    # sample_up_left = list_up_left[idx]\n",
    "    # sample_down_right = list_down_right[idx]\n",
    "    #\n",
    "    # assert sample_down_right[1] - sample_up_left[1] >= 0\n",
    "    # assert sample_down_right[0] - sample_up_left[0] >= 0\n",
    "\n",
    "    line_unit = np.abs(np.array(list_down_right)- np.array(list_up_left))\n",
    "    line_unit = line_unit[:,-1]\n",
    "    line_unit= np.median(line_unit)\n",
    "    return line_unit"
   ],
   "metadata": {
    "collapsed": false
   }
  },
  {
   "cell_type": "code",
   "execution_count": 6,
   "outputs": [],
   "source": [
    "def line_formation(bb, line_unit, overlaps_threshold=0.5):\n",
    "    \"\"\"\n",
    "    Description\n",
    "        This function implements a line formation algorithm from a given input of bounding boxes (bb). It creates a dictionary line_dict, where each value contains the line's Y-value and a list of the indexes of the elements associated with that line. The function also takes two parameters: line_unit and overlaps_threshold.\n",
    "\n",
    "    Functionality\n",
    "        The algorithm works by looping through all the elements found in the bb array. For every element, it first checks to see if line_dict is empty. If so, it adds this element as the first entry into the dictionary.\n",
    "\n",
    "        If line_dict is not empty, the code then loops through all its entries and computes the error between the current item's y-value and those of each stored entry, taking into account the line_unit parameter. If the error is lower than the overlaps_threshold, the current item is added to the same line. Otherwise, a new line is created and populated with this item. The function then goes back to looping over all the items until it reaches the end of the array.\n",
    "\n",
    "        At the end, the function sorts each line's items by their x-values, such that the output is sorted lexicographically.\n",
    "\n",
    "    :param bb: list of bounding box\n",
    "    :param line_unit:\n",
    "    :param overlaps_threshold:\n",
    "    :return:\n",
    "    \"\"\"\n",
    "    line_dict = {}\n",
    "    id_line = 0\n",
    "    for idx, instance in enumerate(bb):\n",
    "\n",
    "        if len(line_dict.items()) == 0:\n",
    "            _list = [idx]\n",
    "            line_dict[id_line] = (instance[0][1], _list)\n",
    "\n",
    "        else:\n",
    "            is_in_dict = False\n",
    "            for key, val in line_dict.items():\n",
    "\n",
    "                y_val, id_vals = val\n",
    "\n",
    "                line_error = abs(instance[0][1] - y_val) / line_unit\n",
    "\n",
    "                if line_error < overlaps_threshold:\n",
    "                    id_vals.append(idx)\n",
    "                    line_dict[id_line] = (min(instance[0][1],y_val), id_vals)\n",
    "                    is_in_dict = True\n",
    "                    break\n",
    "\n",
    "            if is_in_dict:\n",
    "                continue\n",
    "\n",
    "            id_line+=1\n",
    "            _list = [idx]\n",
    "            line_dict[id_line] = (instance[0][1], _list)\n",
    "\n",
    "    for idx, val in line_dict.items():\n",
    "        list_of_content = [bb[i] for i in val[1]]\n",
    "        list_of_content = sorted(list_of_content, key=lambda x: (x[0][0]))\n",
    "\n",
    "        line_dict[idx] = val[0], list_of_content\n",
    "\n",
    "    return line_dict"
   ],
   "metadata": {
    "collapsed": false
   }
  },
  {
   "cell_type": "code",
   "execution_count": 7,
   "outputs": [],
   "source": [
    "bb, list_up_left, list_down_right = prepare_boxes(boxes)"
   ],
   "metadata": {
    "collapsed": false
   }
  },
  {
   "cell_type": "code",
   "execution_count": 8,
   "outputs": [],
   "source": [
    "line_unit = compute_line_unit(list_up_left, list_down_right)"
   ],
   "metadata": {
    "collapsed": false
   }
  },
  {
   "cell_type": "code",
   "execution_count": 9,
   "outputs": [],
   "source": [
    "lines = line_formation(bb, line_unit)"
   ],
   "metadata": {
    "collapsed": false
   }
  },
  {
   "cell_type": "code",
   "execution_count": 10,
   "outputs": [
    {
     "data": {
      "text/plain": "{0: (0,\n  [([75, 0], [266, 19], 'VIET,JACK.COM', 4),\n   ([342, 0], [835, 20], 'Học trực tuyến: KHOA HỌC.VIETJACK.COM', 4)]),\n 1: (60,\n  [([147, 60], [413, 82], 'BỘ GIÀO DỤC VÀ ĐẢO', 8),\n   ([473, 60], [941, 82], 'KY THI TRUNG HỌC PHÔ THÔNG QUỐC', 8)]),\n 2: (78,\n  [([251, 78], [310, 98], 'TẠO', 8),\n   ([625, 78], [789, 95], 'GIA NĂM 2017', 8)]),\n 3: (97,\n  [([160, 98], [400, 121], 'ĐỀ THI THỬ NGHIỆM', 8),\n   ([508, 97], [908, 119], 'Bài thi: Khoa học xã hội;Môôn: Lịch sử', 8)]),\n 4: (118,\n  [([183, 118], [377, 140], '(Đề thi có 05 trang)', 8),\n   ([485, 118],\n    [931, 140],\n    'Thời gian làm bài: 50 phút, không kể thời gian',\n    8)]),\n 5: (138, [([669, 138], [748, 159], 'phát để', 8)]),\n 6: (180, [([630, 180], [774, 198], 'Mã đề thi (01', 8)]),\n 7: (219,\n  [([114, 219],\n    [730, 239],\n    'Họ và tên thí sinh: .......................................................................',\n    8),\n   ([115, 219], [305, 240], 'Họ và tên thí sinh:', 8)]),\n 8: (238,\n  [([114, 238],\n    [707, 258],\n    'Số báo danh:: .........................................................................',\n    8),\n   ([115, 238], [251, 258], 'Số báo danh:', 8)]),\n 9: (257,\n  [([114, 257],\n    [794, 278],\n    'Câu 1. Hội nghị Ianta (2-1945) không đưa ra quyết định nào dưới đây?',\n    0)]),\n 10: (279,\n  [([159, 279], [508, 300], 'A. Thành lập tổ chức Liên hợp quốc.', 2)]),\n 11: (301,\n  [([159, 301], [532, 322], 'B. Giải giáp quân Nhật ở Đông Dương.', 2)]),\n 12: (322,\n  [([159, 322], [529, 343], 'C. Tiêu diệt tận gốc chủ nghĩa phát xít.', 2)]),\n 13: (344,\n  [([159, 344],\n    [659, 365],\n    'D. Phân chia phạm vi ảnh hưởng ở châu Âu, châu Á.',\n    2)]),\n 14: (365,\n  [([113, 365],\n    [926, 386],\n    'Câu 2. Ngày 24-10-1945, sau khi Quốc hội các nước thành viên phê chuẩn, bản Hiến',\n    0)]),\n 15: (387, [([115, 387], [373, 408], 'chương của Liên hợp quốc', 0)]),\n 16: (406,\n  [([160, 407], [443, 428], 'A. được bổ sung, hoàn chỉnh.', 2),\n   ([537, 406], [810, 429], 'È, chính thức được công bố.', 2)]),\n 17: (428,\n  [([159, 428], [408, 449], 'C. chính thức có hiệu lực.', 2),\n   ([537, 428], [830, 450], 'D. được chính thức thông qua.', 2)]),\n 18: (449,\n  [([113, 449],\n    [909, 471],\n    'Câu 3. Những năm đầu sau khi Liên Xô tan rã, Diện bang Nga thực hiện chính sách',\n    0)]),\n 19: (471,\n  [([115, 471], [512, 493], 'đối ngoại ngả về phương Tây với hi vọng', 0)]),\n 20: (494,\n  [([160, 494],\n    [609, 515],\n    'A. thành lập một liên minh chính trị ở châu Âu.',\n    2)]),\n 21: (515,\n  [([160, 515],\n    [631, 536],\n    'B. xây dựng một liên minh kinh tế lớn ở châu Âu.',\n    2)]),\n 22: (537,\n  [([159, 537],\n    [738, 558],\n    'C. nhận được sự ủng hộ về chính trị và sự viện trợ về kinh tế.',\n    2)]),\n 23: (559,\n  [([159, 559],\n    [759, 579],\n    'D. tăng cường hợp lắc khoa học kĩ thuật với các nước châu Âu.',\n    2)]),\n 24: (580,\n  [([115, 580],\n    [745, 601],\n    'Câu 4. Tại Quốc hội Mĩ (12-3-1947), Tổng thống Truman đề nghị',\n    0)]),\n 25: (602,\n  [([160, 602],\n    [741, 622],\n    'A. thành lập Tổ chức Hiệp ước Bắc Đại Tây Dương (NATO).',\n    2)]),\n 26: (624,\n  [([160, 624],\n    [736, 644],\n    'B. giúp đỡ nước Pháp kéo dài cuộc chiến tranh Đông Dương.',\n    2)]),\n 27: (645,\n  [([160, 645],\n    [745, 666],\n    'C, thực hiện Kế hoạch Mácsan, giúp Tây Âu phục hồi kinh tế.',\n    2)]),\n 28: (666,\n  [([160, 666],\n    [756, 687],\n    'D. viện trợ khẩn cấp 400 triệu USD cho Hi Lạp và Thổ Nhĩ Kì.',\n    2)]),\n 29: (688,\n  [([114, 688],\n    [932, 709],\n    'Cầu 5. Sau khi giành được độc lập, nhóm năm nước sáng lập ASEAN thực hiện chiến',\n    2)]),\n 30: (710,\n  [([114, 710], [459, 731], 'Tược kinh tế hướng nội với mục tiêu', 2)]),\n 31: (730,\n  [([160, 730],\n    [833, 750],\n    'À. khôi phục sự phát triển của các ngành công nghiệp nặng ở các nước.',\n    2)]),\n 32: (751,\n  [([160, 751],\n    [840, 771],\n    'B. nhanh chóng xóa bỏ nghèo nàn, lạc hậu, xây dựng nền kinh tế tự chủ.',\n    2)]),\n 33: (773,\n  [([160, 773],\n    [849, 793],\n    'C. nhanh chóng vươn lên trở thành những nước công nghiệp mới (NICs).',\n    2)]),\n 34: (794,\n  [([160, 794],\n    [862, 814],\n    'D. thúc đẩy tốc độ tăng trưởng của các ngành công nghiệp nhẹ trong nước.',\n    2)]),\n 35: (815,\n  [([114, 815],\n    [926, 836],\n    'Câu 6. Ngoài việc giúp các nước Tây Âu phục hồi nền kinh tế, Kế hoạch Mácsan của',\n    0)]),\n 36: (838,\n  [([115, 838],\n    [598, 859],\n    'Mĩ (1947) còn nhằm tập hợp các nước Tây Âu vào',\n    0)]),\n 37: (857,\n  [([160, 857],\n    [714, 878],\n    'A. liên minh kinh tế đối lập với các nước xã hội chủ nghĩa.',\n    2)]),\n 38: (878,\n  [([160, 878],\n    [720, 899],\n    'B. liên minh quân sự chống Liên Xô và các nước Đông Âu.',\n    2)]),\n 39: (900,\n  [([160, 900],\n    [726, 921],\n    'C. liên minh chính trị chống Liên Xô và các nước Đông Âu.',\n    2)]),\n 40: (921,\n  [([159, 921],\n    [725, 943],\n    'D. tổ chức chính trị-quân sự chống lại phe xã hội chủ nghĩa.',\n    2)]),\n 41: (949,\n  [([74, 949], [378, 969], 'Facebook: Học cùng Vietjack', 5),\n   ([518, 949], [805, 970], 'Youtube:Học cùng Vietjack', 5)])}"
     },
     "execution_count": 10,
     "metadata": {},
     "output_type": "execute_result"
    }
   ],
   "source": [
    "lines"
   ],
   "metadata": {
    "collapsed": false
   }
  },
  {
   "cell_type": "code",
   "execution_count": 14,
   "outputs": [
    {
     "data": {
      "text/plain": "             0           1                                                  2  \\\n0      [75, 0]   [266, 19]                                      VIET,JACK.COM   \n1     [342, 0]   [835, 20]              Học trực tuyến: KHOA HỌC.VIETJACK.COM   \n2    [147, 60]   [413, 82]                                 BỘ GIÀO DỤC VÀ ĐẢO   \n3    [473, 60]   [941, 82]                    KY THI TRUNG HỌC PHÔ THÔNG QUỐC   \n4    [251, 78]   [310, 98]                                                TẠO   \n5    [625, 78]   [789, 95]                                       GIA NĂM 2017   \n6    [160, 98]  [400, 121]                                  ĐỀ THI THỬ NGHIỆM   \n7    [508, 97]  [908, 119]             Bài thi: Khoa học xã hội;Môôn: Lịch sử   \n8   [183, 118]  [377, 140]                               (Đề thi có 05 trang)   \n9   [485, 118]  [931, 140]     Thời gian làm bài: 50 phút, không kể thời gian   \n10  [669, 138]  [748, 159]                                            phát để   \n11  [630, 180]  [774, 198]                                      Mã đề thi (01   \n12  [114, 219]  [730, 239]  Họ và tên thí sinh: .............................   \n13  [115, 219]  [305, 240]                                Họ và tên thí sinh:   \n14  [114, 238]  [707, 258]  Số báo danh:: ...................................   \n15  [115, 238]  [251, 258]                                       Số báo danh:   \n16  [114, 257]  [794, 278]  Câu 1. Hội nghị Ianta (2-1945) không đưa ra qu...   \n17  [159, 279]  [508, 300]                A. Thành lập tổ chức Liên hợp quốc.   \n18  [159, 301]  [532, 322]               B. Giải giáp quân Nhật ở Đông Dương.   \n19  [159, 322]  [529, 343]           C. Tiêu diệt tận gốc chủ nghĩa phát xít.   \n20  [159, 344]  [659, 365]  D. Phân chia phạm vi ảnh hưởng ở châu Âu, châu Á.   \n21  [113, 365]  [926, 386]  Câu 2. Ngày 24-10-1945, sau khi Quốc hội các n...   \n22  [115, 387]  [373, 408]                           chương của Liên hợp quốc   \n23  [160, 407]  [443, 428]                       A. được bổ sung, hoàn chỉnh.   \n24  [537, 406]  [810, 429]                        È, chính thức được công bố.   \n25  [159, 428]  [408, 449]                         C. chính thức có hiệu lực.   \n26  [537, 428]  [830, 450]                      D. được chính thức thông qua.   \n27  [113, 449]  [909, 471]  Câu 3. Những năm đầu sau khi Liên Xô tan rã, D...   \n28  [115, 471]  [512, 493]            đối ngoại ngả về phương Tây với hi vọng   \n29  [160, 494]  [609, 515]    A. thành lập một liên minh chính trị ở châu Âu.   \n30  [160, 515]  [631, 536]   B. xây dựng một liên minh kinh tế lớn ở châu Âu.   \n31  [159, 537]  [738, 558]  C. nhận được sự ủng hộ về chính trị và sự viện...   \n32  [159, 559]  [759, 579]  D. tăng cường hợp lắc khoa học kĩ thuật với cá...   \n33  [115, 580]  [745, 601]  Câu 4. Tại Quốc hội Mĩ (12-3-1947), Tổng thống...   \n34  [160, 602]  [741, 622]  A. thành lập Tổ chức Hiệp ước Bắc Đại Tây Dươn...   \n35  [160, 624]  [736, 644]  B. giúp đỡ nước Pháp kéo dài cuộc chiến tranh ...   \n36  [160, 645]  [745, 666]  C, thực hiện Kế hoạch Mácsan, giúp Tây Âu phục...   \n37  [160, 666]  [756, 687]  D. viện trợ khẩn cấp 400 triệu USD cho Hi Lạp ...   \n38  [114, 688]  [932, 709]  Cầu 5. Sau khi giành được độc lập, nhóm năm nư...   \n39  [114, 710]  [459, 731]                Tược kinh tế hướng nội với mục tiêu   \n40  [160, 730]  [833, 750]  À. khôi phục sự phát triển của các ngành công ...   \n41  [160, 751]  [840, 771]  B. nhanh chóng xóa bỏ nghèo nàn, lạc hậu, xây ...   \n42  [160, 773]  [849, 793]  C. nhanh chóng vươn lên trở thành những nước c...   \n43  [160, 794]  [862, 814]  D. thúc đẩy tốc độ tăng trưởng của các ngành c...   \n44  [114, 815]  [926, 836]  Câu 6. Ngoài việc giúp các nước Tây Âu phục hồ...   \n45  [115, 838]  [598, 859]     Mĩ (1947) còn nhằm tập hợp các nước Tây Âu vào   \n46  [160, 857]  [714, 878]  A. liên minh kinh tế đối lập với các nước xã h...   \n47  [160, 878]  [720, 899]  B. liên minh quân sự chống Liên Xô và các nước...   \n48  [160, 900]  [726, 921]  C. liên minh chính trị chống Liên Xô và các nư...   \n49  [159, 921]  [725, 943]  D. tổ chức chính trị-quân sự chống lại phe xã ...   \n50   [74, 949]  [378, 969]                        Facebook: Học cùng Vietjack   \n51  [518, 949]  [805, 970]                          Youtube:Học cùng Vietjack   \n\n    3  \n0   4  \n1   4  \n2   8  \n3   8  \n4   8  \n5   8  \n6   8  \n7   8  \n8   8  \n9   8  \n10  8  \n11  8  \n12  8  \n13  8  \n14  8  \n15  8  \n16  0  \n17  2  \n18  2  \n19  2  \n20  2  \n21  0  \n22  0  \n23  2  \n24  2  \n25  2  \n26  2  \n27  0  \n28  0  \n29  2  \n30  2  \n31  2  \n32  2  \n33  0  \n34  2  \n35  2  \n36  2  \n37  2  \n38  2  \n39  2  \n40  2  \n41  2  \n42  2  \n43  2  \n44  0  \n45  0  \n46  2  \n47  2  \n48  2  \n49  2  \n50  5  \n51  5  ",
      "text/html": "<div>\n<style scoped>\n    .dataframe tbody tr th:only-of-type {\n        vertical-align: middle;\n    }\n\n    .dataframe tbody tr th {\n        vertical-align: top;\n    }\n\n    .dataframe thead th {\n        text-align: right;\n    }\n</style>\n<table border=\"1\" class=\"dataframe\">\n  <thead>\n    <tr style=\"text-align: right;\">\n      <th></th>\n      <th>0</th>\n      <th>1</th>\n      <th>2</th>\n      <th>3</th>\n    </tr>\n  </thead>\n  <tbody>\n    <tr>\n      <th>0</th>\n      <td>[75, 0]</td>\n      <td>[266, 19]</td>\n      <td>VIET,JACK.COM</td>\n      <td>4</td>\n    </tr>\n    <tr>\n      <th>1</th>\n      <td>[342, 0]</td>\n      <td>[835, 20]</td>\n      <td>Học trực tuyến: KHOA HỌC.VIETJACK.COM</td>\n      <td>4</td>\n    </tr>\n    <tr>\n      <th>2</th>\n      <td>[147, 60]</td>\n      <td>[413, 82]</td>\n      <td>BỘ GIÀO DỤC VÀ ĐẢO</td>\n      <td>8</td>\n    </tr>\n    <tr>\n      <th>3</th>\n      <td>[473, 60]</td>\n      <td>[941, 82]</td>\n      <td>KY THI TRUNG HỌC PHÔ THÔNG QUỐC</td>\n      <td>8</td>\n    </tr>\n    <tr>\n      <th>4</th>\n      <td>[251, 78]</td>\n      <td>[310, 98]</td>\n      <td>TẠO</td>\n      <td>8</td>\n    </tr>\n    <tr>\n      <th>5</th>\n      <td>[625, 78]</td>\n      <td>[789, 95]</td>\n      <td>GIA NĂM 2017</td>\n      <td>8</td>\n    </tr>\n    <tr>\n      <th>6</th>\n      <td>[160, 98]</td>\n      <td>[400, 121]</td>\n      <td>ĐỀ THI THỬ NGHIỆM</td>\n      <td>8</td>\n    </tr>\n    <tr>\n      <th>7</th>\n      <td>[508, 97]</td>\n      <td>[908, 119]</td>\n      <td>Bài thi: Khoa học xã hội;Môôn: Lịch sử</td>\n      <td>8</td>\n    </tr>\n    <tr>\n      <th>8</th>\n      <td>[183, 118]</td>\n      <td>[377, 140]</td>\n      <td>(Đề thi có 05 trang)</td>\n      <td>8</td>\n    </tr>\n    <tr>\n      <th>9</th>\n      <td>[485, 118]</td>\n      <td>[931, 140]</td>\n      <td>Thời gian làm bài: 50 phút, không kể thời gian</td>\n      <td>8</td>\n    </tr>\n    <tr>\n      <th>10</th>\n      <td>[669, 138]</td>\n      <td>[748, 159]</td>\n      <td>phát để</td>\n      <td>8</td>\n    </tr>\n    <tr>\n      <th>11</th>\n      <td>[630, 180]</td>\n      <td>[774, 198]</td>\n      <td>Mã đề thi (01</td>\n      <td>8</td>\n    </tr>\n    <tr>\n      <th>12</th>\n      <td>[114, 219]</td>\n      <td>[730, 239]</td>\n      <td>Họ và tên thí sinh: .............................</td>\n      <td>8</td>\n    </tr>\n    <tr>\n      <th>13</th>\n      <td>[115, 219]</td>\n      <td>[305, 240]</td>\n      <td>Họ và tên thí sinh:</td>\n      <td>8</td>\n    </tr>\n    <tr>\n      <th>14</th>\n      <td>[114, 238]</td>\n      <td>[707, 258]</td>\n      <td>Số báo danh:: ...................................</td>\n      <td>8</td>\n    </tr>\n    <tr>\n      <th>15</th>\n      <td>[115, 238]</td>\n      <td>[251, 258]</td>\n      <td>Số báo danh:</td>\n      <td>8</td>\n    </tr>\n    <tr>\n      <th>16</th>\n      <td>[114, 257]</td>\n      <td>[794, 278]</td>\n      <td>Câu 1. Hội nghị Ianta (2-1945) không đưa ra qu...</td>\n      <td>0</td>\n    </tr>\n    <tr>\n      <th>17</th>\n      <td>[159, 279]</td>\n      <td>[508, 300]</td>\n      <td>A. Thành lập tổ chức Liên hợp quốc.</td>\n      <td>2</td>\n    </tr>\n    <tr>\n      <th>18</th>\n      <td>[159, 301]</td>\n      <td>[532, 322]</td>\n      <td>B. Giải giáp quân Nhật ở Đông Dương.</td>\n      <td>2</td>\n    </tr>\n    <tr>\n      <th>19</th>\n      <td>[159, 322]</td>\n      <td>[529, 343]</td>\n      <td>C. Tiêu diệt tận gốc chủ nghĩa phát xít.</td>\n      <td>2</td>\n    </tr>\n    <tr>\n      <th>20</th>\n      <td>[159, 344]</td>\n      <td>[659, 365]</td>\n      <td>D. Phân chia phạm vi ảnh hưởng ở châu Âu, châu Á.</td>\n      <td>2</td>\n    </tr>\n    <tr>\n      <th>21</th>\n      <td>[113, 365]</td>\n      <td>[926, 386]</td>\n      <td>Câu 2. Ngày 24-10-1945, sau khi Quốc hội các n...</td>\n      <td>0</td>\n    </tr>\n    <tr>\n      <th>22</th>\n      <td>[115, 387]</td>\n      <td>[373, 408]</td>\n      <td>chương của Liên hợp quốc</td>\n      <td>0</td>\n    </tr>\n    <tr>\n      <th>23</th>\n      <td>[160, 407]</td>\n      <td>[443, 428]</td>\n      <td>A. được bổ sung, hoàn chỉnh.</td>\n      <td>2</td>\n    </tr>\n    <tr>\n      <th>24</th>\n      <td>[537, 406]</td>\n      <td>[810, 429]</td>\n      <td>È, chính thức được công bố.</td>\n      <td>2</td>\n    </tr>\n    <tr>\n      <th>25</th>\n      <td>[159, 428]</td>\n      <td>[408, 449]</td>\n      <td>C. chính thức có hiệu lực.</td>\n      <td>2</td>\n    </tr>\n    <tr>\n      <th>26</th>\n      <td>[537, 428]</td>\n      <td>[830, 450]</td>\n      <td>D. được chính thức thông qua.</td>\n      <td>2</td>\n    </tr>\n    <tr>\n      <th>27</th>\n      <td>[113, 449]</td>\n      <td>[909, 471]</td>\n      <td>Câu 3. Những năm đầu sau khi Liên Xô tan rã, D...</td>\n      <td>0</td>\n    </tr>\n    <tr>\n      <th>28</th>\n      <td>[115, 471]</td>\n      <td>[512, 493]</td>\n      <td>đối ngoại ngả về phương Tây với hi vọng</td>\n      <td>0</td>\n    </tr>\n    <tr>\n      <th>29</th>\n      <td>[160, 494]</td>\n      <td>[609, 515]</td>\n      <td>A. thành lập một liên minh chính trị ở châu Âu.</td>\n      <td>2</td>\n    </tr>\n    <tr>\n      <th>30</th>\n      <td>[160, 515]</td>\n      <td>[631, 536]</td>\n      <td>B. xây dựng một liên minh kinh tế lớn ở châu Âu.</td>\n      <td>2</td>\n    </tr>\n    <tr>\n      <th>31</th>\n      <td>[159, 537]</td>\n      <td>[738, 558]</td>\n      <td>C. nhận được sự ủng hộ về chính trị và sự viện...</td>\n      <td>2</td>\n    </tr>\n    <tr>\n      <th>32</th>\n      <td>[159, 559]</td>\n      <td>[759, 579]</td>\n      <td>D. tăng cường hợp lắc khoa học kĩ thuật với cá...</td>\n      <td>2</td>\n    </tr>\n    <tr>\n      <th>33</th>\n      <td>[115, 580]</td>\n      <td>[745, 601]</td>\n      <td>Câu 4. Tại Quốc hội Mĩ (12-3-1947), Tổng thống...</td>\n      <td>0</td>\n    </tr>\n    <tr>\n      <th>34</th>\n      <td>[160, 602]</td>\n      <td>[741, 622]</td>\n      <td>A. thành lập Tổ chức Hiệp ước Bắc Đại Tây Dươn...</td>\n      <td>2</td>\n    </tr>\n    <tr>\n      <th>35</th>\n      <td>[160, 624]</td>\n      <td>[736, 644]</td>\n      <td>B. giúp đỡ nước Pháp kéo dài cuộc chiến tranh ...</td>\n      <td>2</td>\n    </tr>\n    <tr>\n      <th>36</th>\n      <td>[160, 645]</td>\n      <td>[745, 666]</td>\n      <td>C, thực hiện Kế hoạch Mácsan, giúp Tây Âu phục...</td>\n      <td>2</td>\n    </tr>\n    <tr>\n      <th>37</th>\n      <td>[160, 666]</td>\n      <td>[756, 687]</td>\n      <td>D. viện trợ khẩn cấp 400 triệu USD cho Hi Lạp ...</td>\n      <td>2</td>\n    </tr>\n    <tr>\n      <th>38</th>\n      <td>[114, 688]</td>\n      <td>[932, 709]</td>\n      <td>Cầu 5. Sau khi giành được độc lập, nhóm năm nư...</td>\n      <td>2</td>\n    </tr>\n    <tr>\n      <th>39</th>\n      <td>[114, 710]</td>\n      <td>[459, 731]</td>\n      <td>Tược kinh tế hướng nội với mục tiêu</td>\n      <td>2</td>\n    </tr>\n    <tr>\n      <th>40</th>\n      <td>[160, 730]</td>\n      <td>[833, 750]</td>\n      <td>À. khôi phục sự phát triển của các ngành công ...</td>\n      <td>2</td>\n    </tr>\n    <tr>\n      <th>41</th>\n      <td>[160, 751]</td>\n      <td>[840, 771]</td>\n      <td>B. nhanh chóng xóa bỏ nghèo nàn, lạc hậu, xây ...</td>\n      <td>2</td>\n    </tr>\n    <tr>\n      <th>42</th>\n      <td>[160, 773]</td>\n      <td>[849, 793]</td>\n      <td>C. nhanh chóng vươn lên trở thành những nước c...</td>\n      <td>2</td>\n    </tr>\n    <tr>\n      <th>43</th>\n      <td>[160, 794]</td>\n      <td>[862, 814]</td>\n      <td>D. thúc đẩy tốc độ tăng trưởng của các ngành c...</td>\n      <td>2</td>\n    </tr>\n    <tr>\n      <th>44</th>\n      <td>[114, 815]</td>\n      <td>[926, 836]</td>\n      <td>Câu 6. Ngoài việc giúp các nước Tây Âu phục hồ...</td>\n      <td>0</td>\n    </tr>\n    <tr>\n      <th>45</th>\n      <td>[115, 838]</td>\n      <td>[598, 859]</td>\n      <td>Mĩ (1947) còn nhằm tập hợp các nước Tây Âu vào</td>\n      <td>0</td>\n    </tr>\n    <tr>\n      <th>46</th>\n      <td>[160, 857]</td>\n      <td>[714, 878]</td>\n      <td>A. liên minh kinh tế đối lập với các nước xã h...</td>\n      <td>2</td>\n    </tr>\n    <tr>\n      <th>47</th>\n      <td>[160, 878]</td>\n      <td>[720, 899]</td>\n      <td>B. liên minh quân sự chống Liên Xô và các nước...</td>\n      <td>2</td>\n    </tr>\n    <tr>\n      <th>48</th>\n      <td>[160, 900]</td>\n      <td>[726, 921]</td>\n      <td>C. liên minh chính trị chống Liên Xô và các nư...</td>\n      <td>2</td>\n    </tr>\n    <tr>\n      <th>49</th>\n      <td>[159, 921]</td>\n      <td>[725, 943]</td>\n      <td>D. tổ chức chính trị-quân sự chống lại phe xã ...</td>\n      <td>2</td>\n    </tr>\n    <tr>\n      <th>50</th>\n      <td>[74, 949]</td>\n      <td>[378, 969]</td>\n      <td>Facebook: Học cùng Vietjack</td>\n      <td>5</td>\n    </tr>\n    <tr>\n      <th>51</th>\n      <td>[518, 949]</td>\n      <td>[805, 970]</td>\n      <td>Youtube:Học cùng Vietjack</td>\n      <td>5</td>\n    </tr>\n  </tbody>\n</table>\n</div>"
     },
     "execution_count": 14,
     "metadata": {},
     "output_type": "execute_result"
    }
   ],
   "source": [
    "import pandas as pd\n",
    "reading_order = []\n",
    "for line_num, boxes in lines.items():\n",
    "    for box in boxes[1]:\n",
    "       reading_order.append(box)\n",
    "line_df = pd.DataFrame.from_dict(reading_order)\n",
    "# line_df = line_df.T\n",
    "line_df"
   ],
   "metadata": {
    "collapsed": false
   }
  },
  {
   "cell_type": "code",
   "execution_count": 20,
   "outputs": [
    {
     "data": {
      "text/plain": "             0           1                                                  2  \\\n0      [75, 0]   [266, 19]                                      VIET,JACK.COM   \n1     [342, 0]   [835, 20]              Học trực tuyến: KHOA HỌC.VIETJACK.COM   \n2    [147, 60]   [413, 82]                                 BỘ GIÀO DỤC VÀ ĐẢO   \n3    [473, 60]   [941, 82]                    KY THI TRUNG HỌC PHÔ THÔNG QUỐC   \n4    [251, 78]   [310, 98]                                                TẠO   \n5    [625, 78]   [789, 95]                                       GIA NĂM 2017   \n6    [160, 98]  [400, 121]                                  ĐỀ THI THỬ NGHIỆM   \n7    [508, 97]  [908, 119]             Bài thi: Khoa học xã hội;Môôn: Lịch sử   \n8   [183, 118]  [377, 140]                               (Đề thi có 05 trang)   \n9   [485, 118]  [931, 140]     Thời gian làm bài: 50 phút, không kể thời gian   \n10  [669, 138]  [748, 159]                                            phát để   \n11  [630, 180]  [774, 198]                                      Mã đề thi (01   \n12  [114, 219]  [730, 239]  Họ và tên thí sinh: .............................   \n13  [115, 219]  [305, 240]                                Họ và tên thí sinh:   \n14  [114, 238]  [707, 258]  Số báo danh:: ...................................   \n15  [115, 238]  [251, 258]                                       Số báo danh:   \n16  [114, 257]  [794, 278]  Câu 1. Hội nghị Ianta (2-1945) không đưa ra qu...   \n17  [159, 279]  [508, 300]                A. Thành lập tổ chức Liên hợp quốc.   \n18  [159, 301]  [532, 322]               B. Giải giáp quân Nhật ở Đông Dương.   \n19  [159, 322]  [529, 343]           C. Tiêu diệt tận gốc chủ nghĩa phát xít.   \n20  [159, 344]  [659, 365]  D. Phân chia phạm vi ảnh hưởng ở châu Âu, châu Á.   \n21  [113, 365]  [926, 386]  Câu 2. Ngày 24-10-1945, sau khi Quốc hội các n...   \n22  [115, 387]  [373, 408]                           chương của Liên hợp quốc   \n23  [160, 407]  [443, 428]                       A. được bổ sung, hoàn chỉnh.   \n24  [537, 406]  [810, 429]                        È, chính thức được công bố.   \n25  [159, 428]  [408, 449]                         C. chính thức có hiệu lực.   \n26  [537, 428]  [830, 450]                      D. được chính thức thông qua.   \n27  [113, 449]  [909, 471]  Câu 3. Những năm đầu sau khi Liên Xô tan rã, D...   \n28  [115, 471]  [512, 493]            đối ngoại ngả về phương Tây với hi vọng   \n29  [160, 494]  [609, 515]    A. thành lập một liên minh chính trị ở châu Âu.   \n30  [160, 515]  [631, 536]   B. xây dựng một liên minh kinh tế lớn ở châu Âu.   \n31  [159, 537]  [738, 558]  C. nhận được sự ủng hộ về chính trị và sự viện...   \n32  [159, 559]  [759, 579]  D. tăng cường hợp lắc khoa học kĩ thuật với cá...   \n33  [115, 580]  [745, 601]  Câu 4. Tại Quốc hội Mĩ (12-3-1947), Tổng thống...   \n34  [160, 602]  [741, 622]  A. thành lập Tổ chức Hiệp ước Bắc Đại Tây Dươn...   \n35  [160, 624]  [736, 644]  B. giúp đỡ nước Pháp kéo dài cuộc chiến tranh ...   \n36  [160, 645]  [745, 666]  C, thực hiện Kế hoạch Mácsan, giúp Tây Âu phục...   \n37  [160, 666]  [756, 687]  D. viện trợ khẩn cấp 400 triệu USD cho Hi Lạp ...   \n38  [114, 688]  [932, 709]  Cầu 5. Sau khi giành được độc lập, nhóm năm nư...   \n39  [114, 710]  [459, 731]                Tược kinh tế hướng nội với mục tiêu   \n40  [160, 730]  [833, 750]  À. khôi phục sự phát triển của các ngành công ...   \n41  [160, 751]  [840, 771]  B. nhanh chóng xóa bỏ nghèo nàn, lạc hậu, xây ...   \n42  [160, 773]  [849, 793]  C. nhanh chóng vươn lên trở thành những nước c...   \n43  [160, 794]  [862, 814]  D. thúc đẩy tốc độ tăng trưởng của các ngành c...   \n44  [114, 815]  [926, 836]  Câu 6. Ngoài việc giúp các nước Tây Âu phục hồ...   \n45  [115, 838]  [598, 859]     Mĩ (1947) còn nhằm tập hợp các nước Tây Âu vào   \n46  [160, 857]  [714, 878]  A. liên minh kinh tế đối lập với các nước xã h...   \n47  [160, 878]  [720, 899]  B. liên minh quân sự chống Liên Xô và các nước...   \n48  [160, 900]  [726, 921]  C. liên minh chính trị chống Liên Xô và các nư...   \n49  [159, 921]  [725, 943]  D. tổ chức chính trị-quân sự chống lại phe xã ...   \n50   [74, 949]  [378, 969]                        Facebook: Học cùng Vietjack   \n51  [518, 949]  [805, 970]                          Youtube:Học cùng Vietjack   \n\n    3  section  \n0   4        1  \n1   4        1  \n2   8        2  \n3   8        2  \n4   8        2  \n5   8        2  \n6   8        2  \n7   8        2  \n8   8        2  \n9   8        2  \n10  8        2  \n11  8        2  \n12  8        2  \n13  8        2  \n14  8        2  \n15  8        2  \n16  0        3  \n17  2        4  \n18  2        4  \n19  2        4  \n20  2        4  \n21  0        5  \n22  0        5  \n23  2        6  \n24  2        6  \n25  2        6  \n26  2        6  \n27  0        7  \n28  0        7  \n29  2        8  \n30  2        8  \n31  2        8  \n32  2        8  \n33  0        9  \n34  2       10  \n35  2       10  \n36  2       10  \n37  2       10  \n38  2       10  \n39  2       10  \n40  2       10  \n41  2       10  \n42  2       10  \n43  2       10  \n44  0       11  \n45  0       11  \n46  2       12  \n47  2       12  \n48  2       12  \n49  2       12  \n50  5       13  \n51  5       13  ",
      "text/html": "<div>\n<style scoped>\n    .dataframe tbody tr th:only-of-type {\n        vertical-align: middle;\n    }\n\n    .dataframe tbody tr th {\n        vertical-align: top;\n    }\n\n    .dataframe thead th {\n        text-align: right;\n    }\n</style>\n<table border=\"1\" class=\"dataframe\">\n  <thead>\n    <tr style=\"text-align: right;\">\n      <th></th>\n      <th>0</th>\n      <th>1</th>\n      <th>2</th>\n      <th>3</th>\n      <th>section</th>\n    </tr>\n  </thead>\n  <tbody>\n    <tr>\n      <th>0</th>\n      <td>[75, 0]</td>\n      <td>[266, 19]</td>\n      <td>VIET,JACK.COM</td>\n      <td>4</td>\n      <td>1</td>\n    </tr>\n    <tr>\n      <th>1</th>\n      <td>[342, 0]</td>\n      <td>[835, 20]</td>\n      <td>Học trực tuyến: KHOA HỌC.VIETJACK.COM</td>\n      <td>4</td>\n      <td>1</td>\n    </tr>\n    <tr>\n      <th>2</th>\n      <td>[147, 60]</td>\n      <td>[413, 82]</td>\n      <td>BỘ GIÀO DỤC VÀ ĐẢO</td>\n      <td>8</td>\n      <td>2</td>\n    </tr>\n    <tr>\n      <th>3</th>\n      <td>[473, 60]</td>\n      <td>[941, 82]</td>\n      <td>KY THI TRUNG HỌC PHÔ THÔNG QUỐC</td>\n      <td>8</td>\n      <td>2</td>\n    </tr>\n    <tr>\n      <th>4</th>\n      <td>[251, 78]</td>\n      <td>[310, 98]</td>\n      <td>TẠO</td>\n      <td>8</td>\n      <td>2</td>\n    </tr>\n    <tr>\n      <th>5</th>\n      <td>[625, 78]</td>\n      <td>[789, 95]</td>\n      <td>GIA NĂM 2017</td>\n      <td>8</td>\n      <td>2</td>\n    </tr>\n    <tr>\n      <th>6</th>\n      <td>[160, 98]</td>\n      <td>[400, 121]</td>\n      <td>ĐỀ THI THỬ NGHIỆM</td>\n      <td>8</td>\n      <td>2</td>\n    </tr>\n    <tr>\n      <th>7</th>\n      <td>[508, 97]</td>\n      <td>[908, 119]</td>\n      <td>Bài thi: Khoa học xã hội;Môôn: Lịch sử</td>\n      <td>8</td>\n      <td>2</td>\n    </tr>\n    <tr>\n      <th>8</th>\n      <td>[183, 118]</td>\n      <td>[377, 140]</td>\n      <td>(Đề thi có 05 trang)</td>\n      <td>8</td>\n      <td>2</td>\n    </tr>\n    <tr>\n      <th>9</th>\n      <td>[485, 118]</td>\n      <td>[931, 140]</td>\n      <td>Thời gian làm bài: 50 phút, không kể thời gian</td>\n      <td>8</td>\n      <td>2</td>\n    </tr>\n    <tr>\n      <th>10</th>\n      <td>[669, 138]</td>\n      <td>[748, 159]</td>\n      <td>phát để</td>\n      <td>8</td>\n      <td>2</td>\n    </tr>\n    <tr>\n      <th>11</th>\n      <td>[630, 180]</td>\n      <td>[774, 198]</td>\n      <td>Mã đề thi (01</td>\n      <td>8</td>\n      <td>2</td>\n    </tr>\n    <tr>\n      <th>12</th>\n      <td>[114, 219]</td>\n      <td>[730, 239]</td>\n      <td>Họ và tên thí sinh: .............................</td>\n      <td>8</td>\n      <td>2</td>\n    </tr>\n    <tr>\n      <th>13</th>\n      <td>[115, 219]</td>\n      <td>[305, 240]</td>\n      <td>Họ và tên thí sinh:</td>\n      <td>8</td>\n      <td>2</td>\n    </tr>\n    <tr>\n      <th>14</th>\n      <td>[114, 238]</td>\n      <td>[707, 258]</td>\n      <td>Số báo danh:: ...................................</td>\n      <td>8</td>\n      <td>2</td>\n    </tr>\n    <tr>\n      <th>15</th>\n      <td>[115, 238]</td>\n      <td>[251, 258]</td>\n      <td>Số báo danh:</td>\n      <td>8</td>\n      <td>2</td>\n    </tr>\n    <tr>\n      <th>16</th>\n      <td>[114, 257]</td>\n      <td>[794, 278]</td>\n      <td>Câu 1. Hội nghị Ianta (2-1945) không đưa ra qu...</td>\n      <td>0</td>\n      <td>3</td>\n    </tr>\n    <tr>\n      <th>17</th>\n      <td>[159, 279]</td>\n      <td>[508, 300]</td>\n      <td>A. Thành lập tổ chức Liên hợp quốc.</td>\n      <td>2</td>\n      <td>4</td>\n    </tr>\n    <tr>\n      <th>18</th>\n      <td>[159, 301]</td>\n      <td>[532, 322]</td>\n      <td>B. Giải giáp quân Nhật ở Đông Dương.</td>\n      <td>2</td>\n      <td>4</td>\n    </tr>\n    <tr>\n      <th>19</th>\n      <td>[159, 322]</td>\n      <td>[529, 343]</td>\n      <td>C. Tiêu diệt tận gốc chủ nghĩa phát xít.</td>\n      <td>2</td>\n      <td>4</td>\n    </tr>\n    <tr>\n      <th>20</th>\n      <td>[159, 344]</td>\n      <td>[659, 365]</td>\n      <td>D. Phân chia phạm vi ảnh hưởng ở châu Âu, châu Á.</td>\n      <td>2</td>\n      <td>4</td>\n    </tr>\n    <tr>\n      <th>21</th>\n      <td>[113, 365]</td>\n      <td>[926, 386]</td>\n      <td>Câu 2. Ngày 24-10-1945, sau khi Quốc hội các n...</td>\n      <td>0</td>\n      <td>5</td>\n    </tr>\n    <tr>\n      <th>22</th>\n      <td>[115, 387]</td>\n      <td>[373, 408]</td>\n      <td>chương của Liên hợp quốc</td>\n      <td>0</td>\n      <td>5</td>\n    </tr>\n    <tr>\n      <th>23</th>\n      <td>[160, 407]</td>\n      <td>[443, 428]</td>\n      <td>A. được bổ sung, hoàn chỉnh.</td>\n      <td>2</td>\n      <td>6</td>\n    </tr>\n    <tr>\n      <th>24</th>\n      <td>[537, 406]</td>\n      <td>[810, 429]</td>\n      <td>È, chính thức được công bố.</td>\n      <td>2</td>\n      <td>6</td>\n    </tr>\n    <tr>\n      <th>25</th>\n      <td>[159, 428]</td>\n      <td>[408, 449]</td>\n      <td>C. chính thức có hiệu lực.</td>\n      <td>2</td>\n      <td>6</td>\n    </tr>\n    <tr>\n      <th>26</th>\n      <td>[537, 428]</td>\n      <td>[830, 450]</td>\n      <td>D. được chính thức thông qua.</td>\n      <td>2</td>\n      <td>6</td>\n    </tr>\n    <tr>\n      <th>27</th>\n      <td>[113, 449]</td>\n      <td>[909, 471]</td>\n      <td>Câu 3. Những năm đầu sau khi Liên Xô tan rã, D...</td>\n      <td>0</td>\n      <td>7</td>\n    </tr>\n    <tr>\n      <th>28</th>\n      <td>[115, 471]</td>\n      <td>[512, 493]</td>\n      <td>đối ngoại ngả về phương Tây với hi vọng</td>\n      <td>0</td>\n      <td>7</td>\n    </tr>\n    <tr>\n      <th>29</th>\n      <td>[160, 494]</td>\n      <td>[609, 515]</td>\n      <td>A. thành lập một liên minh chính trị ở châu Âu.</td>\n      <td>2</td>\n      <td>8</td>\n    </tr>\n    <tr>\n      <th>30</th>\n      <td>[160, 515]</td>\n      <td>[631, 536]</td>\n      <td>B. xây dựng một liên minh kinh tế lớn ở châu Âu.</td>\n      <td>2</td>\n      <td>8</td>\n    </tr>\n    <tr>\n      <th>31</th>\n      <td>[159, 537]</td>\n      <td>[738, 558]</td>\n      <td>C. nhận được sự ủng hộ về chính trị và sự viện...</td>\n      <td>2</td>\n      <td>8</td>\n    </tr>\n    <tr>\n      <th>32</th>\n      <td>[159, 559]</td>\n      <td>[759, 579]</td>\n      <td>D. tăng cường hợp lắc khoa học kĩ thuật với cá...</td>\n      <td>2</td>\n      <td>8</td>\n    </tr>\n    <tr>\n      <th>33</th>\n      <td>[115, 580]</td>\n      <td>[745, 601]</td>\n      <td>Câu 4. Tại Quốc hội Mĩ (12-3-1947), Tổng thống...</td>\n      <td>0</td>\n      <td>9</td>\n    </tr>\n    <tr>\n      <th>34</th>\n      <td>[160, 602]</td>\n      <td>[741, 622]</td>\n      <td>A. thành lập Tổ chức Hiệp ước Bắc Đại Tây Dươn...</td>\n      <td>2</td>\n      <td>10</td>\n    </tr>\n    <tr>\n      <th>35</th>\n      <td>[160, 624]</td>\n      <td>[736, 644]</td>\n      <td>B. giúp đỡ nước Pháp kéo dài cuộc chiến tranh ...</td>\n      <td>2</td>\n      <td>10</td>\n    </tr>\n    <tr>\n      <th>36</th>\n      <td>[160, 645]</td>\n      <td>[745, 666]</td>\n      <td>C, thực hiện Kế hoạch Mácsan, giúp Tây Âu phục...</td>\n      <td>2</td>\n      <td>10</td>\n    </tr>\n    <tr>\n      <th>37</th>\n      <td>[160, 666]</td>\n      <td>[756, 687]</td>\n      <td>D. viện trợ khẩn cấp 400 triệu USD cho Hi Lạp ...</td>\n      <td>2</td>\n      <td>10</td>\n    </tr>\n    <tr>\n      <th>38</th>\n      <td>[114, 688]</td>\n      <td>[932, 709]</td>\n      <td>Cầu 5. Sau khi giành được độc lập, nhóm năm nư...</td>\n      <td>2</td>\n      <td>10</td>\n    </tr>\n    <tr>\n      <th>39</th>\n      <td>[114, 710]</td>\n      <td>[459, 731]</td>\n      <td>Tược kinh tế hướng nội với mục tiêu</td>\n      <td>2</td>\n      <td>10</td>\n    </tr>\n    <tr>\n      <th>40</th>\n      <td>[160, 730]</td>\n      <td>[833, 750]</td>\n      <td>À. khôi phục sự phát triển của các ngành công ...</td>\n      <td>2</td>\n      <td>10</td>\n    </tr>\n    <tr>\n      <th>41</th>\n      <td>[160, 751]</td>\n      <td>[840, 771]</td>\n      <td>B. nhanh chóng xóa bỏ nghèo nàn, lạc hậu, xây ...</td>\n      <td>2</td>\n      <td>10</td>\n    </tr>\n    <tr>\n      <th>42</th>\n      <td>[160, 773]</td>\n      <td>[849, 793]</td>\n      <td>C. nhanh chóng vươn lên trở thành những nước c...</td>\n      <td>2</td>\n      <td>10</td>\n    </tr>\n    <tr>\n      <th>43</th>\n      <td>[160, 794]</td>\n      <td>[862, 814]</td>\n      <td>D. thúc đẩy tốc độ tăng trưởng của các ngành c...</td>\n      <td>2</td>\n      <td>10</td>\n    </tr>\n    <tr>\n      <th>44</th>\n      <td>[114, 815]</td>\n      <td>[926, 836]</td>\n      <td>Câu 6. Ngoài việc giúp các nước Tây Âu phục hồ...</td>\n      <td>0</td>\n      <td>11</td>\n    </tr>\n    <tr>\n      <th>45</th>\n      <td>[115, 838]</td>\n      <td>[598, 859]</td>\n      <td>Mĩ (1947) còn nhằm tập hợp các nước Tây Âu vào</td>\n      <td>0</td>\n      <td>11</td>\n    </tr>\n    <tr>\n      <th>46</th>\n      <td>[160, 857]</td>\n      <td>[714, 878]</td>\n      <td>A. liên minh kinh tế đối lập với các nước xã h...</td>\n      <td>2</td>\n      <td>12</td>\n    </tr>\n    <tr>\n      <th>47</th>\n      <td>[160, 878]</td>\n      <td>[720, 899]</td>\n      <td>B. liên minh quân sự chống Liên Xô và các nước...</td>\n      <td>2</td>\n      <td>12</td>\n    </tr>\n    <tr>\n      <th>48</th>\n      <td>[160, 900]</td>\n      <td>[726, 921]</td>\n      <td>C. liên minh chính trị chống Liên Xô và các nư...</td>\n      <td>2</td>\n      <td>12</td>\n    </tr>\n    <tr>\n      <th>49</th>\n      <td>[159, 921]</td>\n      <td>[725, 943]</td>\n      <td>D. tổ chức chính trị-quân sự chống lại phe xã ...</td>\n      <td>2</td>\n      <td>12</td>\n    </tr>\n    <tr>\n      <th>50</th>\n      <td>[74, 949]</td>\n      <td>[378, 969]</td>\n      <td>Facebook: Học cùng Vietjack</td>\n      <td>5</td>\n      <td>13</td>\n    </tr>\n    <tr>\n      <th>51</th>\n      <td>[518, 949]</td>\n      <td>[805, 970]</td>\n      <td>Youtube:Học cùng Vietjack</td>\n      <td>5</td>\n      <td>13</td>\n    </tr>\n  </tbody>\n</table>\n</div>"
     },
     "execution_count": 20,
     "metadata": {},
     "output_type": "execute_result"
    }
   ],
   "source": [
    "line_df['section'] = (line_df[3] != line_df[3].shift()).cumsum()\n",
    "line_df"
   ],
   "metadata": {
    "collapsed": false
   }
  },
  {
   "cell_type": "code",
   "execution_count": 40,
   "outputs": [
    {
     "name": "stdout",
     "output_type": "stream",
     "text": [
      "4 1 VIET,JACK.COM\n",
      "{'title': [], 'answer': [], 'explanation': []}\n",
      "4 1 Học trực tuyến: KHOA HỌC.VIETJACK.COM\n",
      "{'title': [], 'answer': [], 'explanation': []}\n",
      "8 2 BỘ GIÀO DỤC VÀ ĐẢO\n",
      "{'title': [], 'answer': [], 'explanation': []}\n",
      "8 2 KY THI TRUNG HỌC PHÔ THÔNG QUỐC\n",
      "{'title': [], 'answer': [], 'explanation': []}\n",
      "8 2 TẠO\n",
      "{'title': [], 'answer': [], 'explanation': []}\n",
      "8 2 GIA NĂM 2017\n",
      "{'title': [], 'answer': [], 'explanation': []}\n",
      "8 2 ĐỀ THI THỬ NGHIỆM\n",
      "{'title': [], 'answer': [], 'explanation': []}\n",
      "8 2 Bài thi: Khoa học xã hội;Môôn: Lịch sử\n",
      "{'title': [], 'answer': [], 'explanation': []}\n",
      "8 2 (Đề thi có 05 trang)\n",
      "{'title': [], 'answer': [], 'explanation': []}\n",
      "8 2 Thời gian làm bài: 50 phút, không kể thời gian\n",
      "{'title': [], 'answer': [], 'explanation': []}\n",
      "8 2 phát để\n",
      "{'title': [], 'answer': [], 'explanation': []}\n",
      "8 2 Mã đề thi (01\n",
      "{'title': [], 'answer': [], 'explanation': []}\n",
      "8 2 Họ và tên thí sinh: .......................................................................\n",
      "{'title': [], 'answer': [], 'explanation': []}\n",
      "8 2 Họ và tên thí sinh:\n",
      "{'title': [], 'answer': [], 'explanation': []}\n",
      "8 2 Số báo danh:: .........................................................................\n",
      "{'title': [], 'answer': [], 'explanation': []}\n",
      "8 2 Số báo danh:\n",
      "{'title': [], 'answer': [], 'explanation': []}\n",
      "0 3 Câu 1. Hội nghị Ianta (2-1945) không đưa ra quyết định nào dưới đây?\n",
      "{'title': ['Câu 1. Hội nghị Ianta (2-1945) không đưa ra quyết định nào dưới đây?'], 'answer': [], 'explanation': []}\n",
      "2 4 A. Thành lập tổ chức Liên hợp quốc.\n",
      "{'title': ['Câu 1. Hội nghị Ianta (2-1945) không đưa ra quyết định nào dưới đây?'], 'answer': ['A. Thành lập tổ chức Liên hợp quốc.'], 'explanation': []}\n",
      "2 4 B. Giải giáp quân Nhật ở Đông Dương.\n",
      "{'title': ['Câu 1. Hội nghị Ianta (2-1945) không đưa ra quyết định nào dưới đây?'], 'answer': ['A. Thành lập tổ chức Liên hợp quốc.', 'B. Giải giáp quân Nhật ở Đông Dương.'], 'explanation': []}\n",
      "2 4 C. Tiêu diệt tận gốc chủ nghĩa phát xít.\n",
      "{'title': ['Câu 1. Hội nghị Ianta (2-1945) không đưa ra quyết định nào dưới đây?'], 'answer': ['A. Thành lập tổ chức Liên hợp quốc.', 'B. Giải giáp quân Nhật ở Đông Dương.', 'C. Tiêu diệt tận gốc chủ nghĩa phát xít.'], 'explanation': []}\n",
      "2 4 D. Phân chia phạm vi ảnh hưởng ở châu Âu, châu Á.\n",
      "{'title': ['Câu 1. Hội nghị Ianta (2-1945) không đưa ra quyết định nào dưới đây?'], 'answer': ['A. Thành lập tổ chức Liên hợp quốc.', 'B. Giải giáp quân Nhật ở Đông Dương.', 'C. Tiêu diệt tận gốc chủ nghĩa phát xít.', 'D. Phân chia phạm vi ảnh hưởng ở châu Âu, châu Á.'], 'explanation': []}\n",
      "0 5 Câu 2. Ngày 24-10-1945, sau khi Quốc hội các nước thành viên phê chuẩn, bản Hiến\n",
      "{'title': ['Câu 1. Hội nghị Ianta (2-1945) không đưa ra quyết định nào dưới đây?', 'Câu 2. Ngày 24-10-1945, sau khi Quốc hội các nước thành viên phê chuẩn, bản Hiến'], 'answer': ['A. Thành lập tổ chức Liên hợp quốc.', 'B. Giải giáp quân Nhật ở Đông Dương.', 'C. Tiêu diệt tận gốc chủ nghĩa phát xít.', 'D. Phân chia phạm vi ảnh hưởng ở châu Âu, châu Á.'], 'explanation': []}\n",
      "0 5 chương của Liên hợp quốc\n",
      "{'title': ['Câu 1. Hội nghị Ianta (2-1945) không đưa ra quyết định nào dưới đây?', 'Câu 2. Ngày 24-10-1945, sau khi Quốc hội các nước thành viên phê chuẩn, bản Hiến', 'chương của Liên hợp quốc'], 'answer': ['A. Thành lập tổ chức Liên hợp quốc.', 'B. Giải giáp quân Nhật ở Đông Dương.', 'C. Tiêu diệt tận gốc chủ nghĩa phát xít.', 'D. Phân chia phạm vi ảnh hưởng ở châu Âu, châu Á.'], 'explanation': []}\n",
      "2 6 A. được bổ sung, hoàn chỉnh.\n",
      "{'title': ['Câu 1. Hội nghị Ianta (2-1945) không đưa ra quyết định nào dưới đây?', 'Câu 2. Ngày 24-10-1945, sau khi Quốc hội các nước thành viên phê chuẩn, bản Hiến', 'chương của Liên hợp quốc'], 'answer': ['A. Thành lập tổ chức Liên hợp quốc.', 'B. Giải giáp quân Nhật ở Đông Dương.', 'C. Tiêu diệt tận gốc chủ nghĩa phát xít.', 'D. Phân chia phạm vi ảnh hưởng ở châu Âu, châu Á.', 'A. được bổ sung, hoàn chỉnh.'], 'explanation': []}\n",
      "2 6 È, chính thức được công bố.\n",
      "{'title': ['Câu 1. Hội nghị Ianta (2-1945) không đưa ra quyết định nào dưới đây?', 'Câu 2. Ngày 24-10-1945, sau khi Quốc hội các nước thành viên phê chuẩn, bản Hiến', 'chương của Liên hợp quốc'], 'answer': ['A. Thành lập tổ chức Liên hợp quốc.', 'B. Giải giáp quân Nhật ở Đông Dương.', 'C. Tiêu diệt tận gốc chủ nghĩa phát xít.', 'D. Phân chia phạm vi ảnh hưởng ở châu Âu, châu Á.', 'A. được bổ sung, hoàn chỉnh.', 'È, chính thức được công bố.'], 'explanation': []}\n",
      "2 6 C. chính thức có hiệu lực.\n",
      "{'title': ['Câu 1. Hội nghị Ianta (2-1945) không đưa ra quyết định nào dưới đây?', 'Câu 2. Ngày 24-10-1945, sau khi Quốc hội các nước thành viên phê chuẩn, bản Hiến', 'chương của Liên hợp quốc'], 'answer': ['A. Thành lập tổ chức Liên hợp quốc.', 'B. Giải giáp quân Nhật ở Đông Dương.', 'C. Tiêu diệt tận gốc chủ nghĩa phát xít.', 'D. Phân chia phạm vi ảnh hưởng ở châu Âu, châu Á.', 'A. được bổ sung, hoàn chỉnh.', 'È, chính thức được công bố.', 'C. chính thức có hiệu lực.'], 'explanation': []}\n",
      "2 6 D. được chính thức thông qua.\n",
      "{'title': ['Câu 1. Hội nghị Ianta (2-1945) không đưa ra quyết định nào dưới đây?', 'Câu 2. Ngày 24-10-1945, sau khi Quốc hội các nước thành viên phê chuẩn, bản Hiến', 'chương của Liên hợp quốc'], 'answer': ['A. Thành lập tổ chức Liên hợp quốc.', 'B. Giải giáp quân Nhật ở Đông Dương.', 'C. Tiêu diệt tận gốc chủ nghĩa phát xít.', 'D. Phân chia phạm vi ảnh hưởng ở châu Âu, châu Á.', 'A. được bổ sung, hoàn chỉnh.', 'È, chính thức được công bố.', 'C. chính thức có hiệu lực.', 'D. được chính thức thông qua.'], 'explanation': []}\n",
      "0 7 Câu 3. Những năm đầu sau khi Liên Xô tan rã, Diện bang Nga thực hiện chính sách\n",
      "{'title': ['Câu 1. Hội nghị Ianta (2-1945) không đưa ra quyết định nào dưới đây?', 'Câu 2. Ngày 24-10-1945, sau khi Quốc hội các nước thành viên phê chuẩn, bản Hiến', 'chương của Liên hợp quốc', 'Câu 3. Những năm đầu sau khi Liên Xô tan rã, Diện bang Nga thực hiện chính sách'], 'answer': ['A. Thành lập tổ chức Liên hợp quốc.', 'B. Giải giáp quân Nhật ở Đông Dương.', 'C. Tiêu diệt tận gốc chủ nghĩa phát xít.', 'D. Phân chia phạm vi ảnh hưởng ở châu Âu, châu Á.', 'A. được bổ sung, hoàn chỉnh.', 'È, chính thức được công bố.', 'C. chính thức có hiệu lực.', 'D. được chính thức thông qua.'], 'explanation': []}\n",
      "0 7 đối ngoại ngả về phương Tây với hi vọng\n",
      "{'title': ['Câu 1. Hội nghị Ianta (2-1945) không đưa ra quyết định nào dưới đây?', 'Câu 2. Ngày 24-10-1945, sau khi Quốc hội các nước thành viên phê chuẩn, bản Hiến', 'chương của Liên hợp quốc', 'Câu 3. Những năm đầu sau khi Liên Xô tan rã, Diện bang Nga thực hiện chính sách', 'đối ngoại ngả về phương Tây với hi vọng'], 'answer': ['A. Thành lập tổ chức Liên hợp quốc.', 'B. Giải giáp quân Nhật ở Đông Dương.', 'C. Tiêu diệt tận gốc chủ nghĩa phát xít.', 'D. Phân chia phạm vi ảnh hưởng ở châu Âu, châu Á.', 'A. được bổ sung, hoàn chỉnh.', 'È, chính thức được công bố.', 'C. chính thức có hiệu lực.', 'D. được chính thức thông qua.'], 'explanation': []}\n",
      "2 8 A. thành lập một liên minh chính trị ở châu Âu.\n",
      "{'title': ['Câu 1. Hội nghị Ianta (2-1945) không đưa ra quyết định nào dưới đây?', 'Câu 2. Ngày 24-10-1945, sau khi Quốc hội các nước thành viên phê chuẩn, bản Hiến', 'chương của Liên hợp quốc', 'Câu 3. Những năm đầu sau khi Liên Xô tan rã, Diện bang Nga thực hiện chính sách', 'đối ngoại ngả về phương Tây với hi vọng'], 'answer': ['A. Thành lập tổ chức Liên hợp quốc.', 'B. Giải giáp quân Nhật ở Đông Dương.', 'C. Tiêu diệt tận gốc chủ nghĩa phát xít.', 'D. Phân chia phạm vi ảnh hưởng ở châu Âu, châu Á.', 'A. được bổ sung, hoàn chỉnh.', 'È, chính thức được công bố.', 'C. chính thức có hiệu lực.', 'D. được chính thức thông qua.', 'A. thành lập một liên minh chính trị ở châu Âu.'], 'explanation': []}\n",
      "2 8 B. xây dựng một liên minh kinh tế lớn ở châu Âu.\n",
      "{'title': ['Câu 1. Hội nghị Ianta (2-1945) không đưa ra quyết định nào dưới đây?', 'Câu 2. Ngày 24-10-1945, sau khi Quốc hội các nước thành viên phê chuẩn, bản Hiến', 'chương của Liên hợp quốc', 'Câu 3. Những năm đầu sau khi Liên Xô tan rã, Diện bang Nga thực hiện chính sách', 'đối ngoại ngả về phương Tây với hi vọng'], 'answer': ['A. Thành lập tổ chức Liên hợp quốc.', 'B. Giải giáp quân Nhật ở Đông Dương.', 'C. Tiêu diệt tận gốc chủ nghĩa phát xít.', 'D. Phân chia phạm vi ảnh hưởng ở châu Âu, châu Á.', 'A. được bổ sung, hoàn chỉnh.', 'È, chính thức được công bố.', 'C. chính thức có hiệu lực.', 'D. được chính thức thông qua.', 'A. thành lập một liên minh chính trị ở châu Âu.', 'B. xây dựng một liên minh kinh tế lớn ở châu Âu.'], 'explanation': []}\n",
      "2 8 C. nhận được sự ủng hộ về chính trị và sự viện trợ về kinh tế.\n",
      "{'title': ['Câu 1. Hội nghị Ianta (2-1945) không đưa ra quyết định nào dưới đây?', 'Câu 2. Ngày 24-10-1945, sau khi Quốc hội các nước thành viên phê chuẩn, bản Hiến', 'chương của Liên hợp quốc', 'Câu 3. Những năm đầu sau khi Liên Xô tan rã, Diện bang Nga thực hiện chính sách', 'đối ngoại ngả về phương Tây với hi vọng'], 'answer': ['A. Thành lập tổ chức Liên hợp quốc.', 'B. Giải giáp quân Nhật ở Đông Dương.', 'C. Tiêu diệt tận gốc chủ nghĩa phát xít.', 'D. Phân chia phạm vi ảnh hưởng ở châu Âu, châu Á.', 'A. được bổ sung, hoàn chỉnh.', 'È, chính thức được công bố.', 'C. chính thức có hiệu lực.', 'D. được chính thức thông qua.', 'A. thành lập một liên minh chính trị ở châu Âu.', 'B. xây dựng một liên minh kinh tế lớn ở châu Âu.', 'C. nhận được sự ủng hộ về chính trị và sự viện trợ về kinh tế.'], 'explanation': []}\n",
      "2 8 D. tăng cường hợp lắc khoa học kĩ thuật với các nước châu Âu.\n",
      "{'title': ['Câu 1. Hội nghị Ianta (2-1945) không đưa ra quyết định nào dưới đây?', 'Câu 2. Ngày 24-10-1945, sau khi Quốc hội các nước thành viên phê chuẩn, bản Hiến', 'chương của Liên hợp quốc', 'Câu 3. Những năm đầu sau khi Liên Xô tan rã, Diện bang Nga thực hiện chính sách', 'đối ngoại ngả về phương Tây với hi vọng'], 'answer': ['A. Thành lập tổ chức Liên hợp quốc.', 'B. Giải giáp quân Nhật ở Đông Dương.', 'C. Tiêu diệt tận gốc chủ nghĩa phát xít.', 'D. Phân chia phạm vi ảnh hưởng ở châu Âu, châu Á.', 'A. được bổ sung, hoàn chỉnh.', 'È, chính thức được công bố.', 'C. chính thức có hiệu lực.', 'D. được chính thức thông qua.', 'A. thành lập một liên minh chính trị ở châu Âu.', 'B. xây dựng một liên minh kinh tế lớn ở châu Âu.', 'C. nhận được sự ủng hộ về chính trị và sự viện trợ về kinh tế.', 'D. tăng cường hợp lắc khoa học kĩ thuật với các nước châu Âu.'], 'explanation': []}\n",
      "0 9 Câu 4. Tại Quốc hội Mĩ (12-3-1947), Tổng thống Truman đề nghị\n",
      "{'title': ['Câu 1. Hội nghị Ianta (2-1945) không đưa ra quyết định nào dưới đây?', 'Câu 2. Ngày 24-10-1945, sau khi Quốc hội các nước thành viên phê chuẩn, bản Hiến', 'chương của Liên hợp quốc', 'Câu 3. Những năm đầu sau khi Liên Xô tan rã, Diện bang Nga thực hiện chính sách', 'đối ngoại ngả về phương Tây với hi vọng', 'Câu 4. Tại Quốc hội Mĩ (12-3-1947), Tổng thống Truman đề nghị'], 'answer': ['A. Thành lập tổ chức Liên hợp quốc.', 'B. Giải giáp quân Nhật ở Đông Dương.', 'C. Tiêu diệt tận gốc chủ nghĩa phát xít.', 'D. Phân chia phạm vi ảnh hưởng ở châu Âu, châu Á.', 'A. được bổ sung, hoàn chỉnh.', 'È, chính thức được công bố.', 'C. chính thức có hiệu lực.', 'D. được chính thức thông qua.', 'A. thành lập một liên minh chính trị ở châu Âu.', 'B. xây dựng một liên minh kinh tế lớn ở châu Âu.', 'C. nhận được sự ủng hộ về chính trị và sự viện trợ về kinh tế.', 'D. tăng cường hợp lắc khoa học kĩ thuật với các nước châu Âu.'], 'explanation': []}\n",
      "2 10 A. thành lập Tổ chức Hiệp ước Bắc Đại Tây Dương (NATO).\n",
      "{'title': ['Câu 1. Hội nghị Ianta (2-1945) không đưa ra quyết định nào dưới đây?', 'Câu 2. Ngày 24-10-1945, sau khi Quốc hội các nước thành viên phê chuẩn, bản Hiến', 'chương của Liên hợp quốc', 'Câu 3. Những năm đầu sau khi Liên Xô tan rã, Diện bang Nga thực hiện chính sách', 'đối ngoại ngả về phương Tây với hi vọng', 'Câu 4. Tại Quốc hội Mĩ (12-3-1947), Tổng thống Truman đề nghị'], 'answer': ['A. Thành lập tổ chức Liên hợp quốc.', 'B. Giải giáp quân Nhật ở Đông Dương.', 'C. Tiêu diệt tận gốc chủ nghĩa phát xít.', 'D. Phân chia phạm vi ảnh hưởng ở châu Âu, châu Á.', 'A. được bổ sung, hoàn chỉnh.', 'È, chính thức được công bố.', 'C. chính thức có hiệu lực.', 'D. được chính thức thông qua.', 'A. thành lập một liên minh chính trị ở châu Âu.', 'B. xây dựng một liên minh kinh tế lớn ở châu Âu.', 'C. nhận được sự ủng hộ về chính trị và sự viện trợ về kinh tế.', 'D. tăng cường hợp lắc khoa học kĩ thuật với các nước châu Âu.', 'A. thành lập Tổ chức Hiệp ước Bắc Đại Tây Dương (NATO).'], 'explanation': []}\n",
      "2 10 B. giúp đỡ nước Pháp kéo dài cuộc chiến tranh Đông Dương.\n",
      "{'title': ['Câu 1. Hội nghị Ianta (2-1945) không đưa ra quyết định nào dưới đây?', 'Câu 2. Ngày 24-10-1945, sau khi Quốc hội các nước thành viên phê chuẩn, bản Hiến', 'chương của Liên hợp quốc', 'Câu 3. Những năm đầu sau khi Liên Xô tan rã, Diện bang Nga thực hiện chính sách', 'đối ngoại ngả về phương Tây với hi vọng', 'Câu 4. Tại Quốc hội Mĩ (12-3-1947), Tổng thống Truman đề nghị'], 'answer': ['A. Thành lập tổ chức Liên hợp quốc.', 'B. Giải giáp quân Nhật ở Đông Dương.', 'C. Tiêu diệt tận gốc chủ nghĩa phát xít.', 'D. Phân chia phạm vi ảnh hưởng ở châu Âu, châu Á.', 'A. được bổ sung, hoàn chỉnh.', 'È, chính thức được công bố.', 'C. chính thức có hiệu lực.', 'D. được chính thức thông qua.', 'A. thành lập một liên minh chính trị ở châu Âu.', 'B. xây dựng một liên minh kinh tế lớn ở châu Âu.', 'C. nhận được sự ủng hộ về chính trị và sự viện trợ về kinh tế.', 'D. tăng cường hợp lắc khoa học kĩ thuật với các nước châu Âu.', 'A. thành lập Tổ chức Hiệp ước Bắc Đại Tây Dương (NATO).', 'B. giúp đỡ nước Pháp kéo dài cuộc chiến tranh Đông Dương.'], 'explanation': []}\n",
      "2 10 C, thực hiện Kế hoạch Mácsan, giúp Tây Âu phục hồi kinh tế.\n",
      "{'title': ['Câu 1. Hội nghị Ianta (2-1945) không đưa ra quyết định nào dưới đây?', 'Câu 2. Ngày 24-10-1945, sau khi Quốc hội các nước thành viên phê chuẩn, bản Hiến', 'chương của Liên hợp quốc', 'Câu 3. Những năm đầu sau khi Liên Xô tan rã, Diện bang Nga thực hiện chính sách', 'đối ngoại ngả về phương Tây với hi vọng', 'Câu 4. Tại Quốc hội Mĩ (12-3-1947), Tổng thống Truman đề nghị'], 'answer': ['A. Thành lập tổ chức Liên hợp quốc.', 'B. Giải giáp quân Nhật ở Đông Dương.', 'C. Tiêu diệt tận gốc chủ nghĩa phát xít.', 'D. Phân chia phạm vi ảnh hưởng ở châu Âu, châu Á.', 'A. được bổ sung, hoàn chỉnh.', 'È, chính thức được công bố.', 'C. chính thức có hiệu lực.', 'D. được chính thức thông qua.', 'A. thành lập một liên minh chính trị ở châu Âu.', 'B. xây dựng một liên minh kinh tế lớn ở châu Âu.', 'C. nhận được sự ủng hộ về chính trị và sự viện trợ về kinh tế.', 'D. tăng cường hợp lắc khoa học kĩ thuật với các nước châu Âu.', 'A. thành lập Tổ chức Hiệp ước Bắc Đại Tây Dương (NATO).', 'B. giúp đỡ nước Pháp kéo dài cuộc chiến tranh Đông Dương.', 'C, thực hiện Kế hoạch Mácsan, giúp Tây Âu phục hồi kinh tế.'], 'explanation': []}\n",
      "2 10 D. viện trợ khẩn cấp 400 triệu USD cho Hi Lạp và Thổ Nhĩ Kì.\n",
      "{'title': ['Câu 1. Hội nghị Ianta (2-1945) không đưa ra quyết định nào dưới đây?', 'Câu 2. Ngày 24-10-1945, sau khi Quốc hội các nước thành viên phê chuẩn, bản Hiến', 'chương của Liên hợp quốc', 'Câu 3. Những năm đầu sau khi Liên Xô tan rã, Diện bang Nga thực hiện chính sách', 'đối ngoại ngả về phương Tây với hi vọng', 'Câu 4. Tại Quốc hội Mĩ (12-3-1947), Tổng thống Truman đề nghị'], 'answer': ['A. Thành lập tổ chức Liên hợp quốc.', 'B. Giải giáp quân Nhật ở Đông Dương.', 'C. Tiêu diệt tận gốc chủ nghĩa phát xít.', 'D. Phân chia phạm vi ảnh hưởng ở châu Âu, châu Á.', 'A. được bổ sung, hoàn chỉnh.', 'È, chính thức được công bố.', 'C. chính thức có hiệu lực.', 'D. được chính thức thông qua.', 'A. thành lập một liên minh chính trị ở châu Âu.', 'B. xây dựng một liên minh kinh tế lớn ở châu Âu.', 'C. nhận được sự ủng hộ về chính trị và sự viện trợ về kinh tế.', 'D. tăng cường hợp lắc khoa học kĩ thuật với các nước châu Âu.', 'A. thành lập Tổ chức Hiệp ước Bắc Đại Tây Dương (NATO).', 'B. giúp đỡ nước Pháp kéo dài cuộc chiến tranh Đông Dương.', 'C, thực hiện Kế hoạch Mácsan, giúp Tây Âu phục hồi kinh tế.', 'D. viện trợ khẩn cấp 400 triệu USD cho Hi Lạp và Thổ Nhĩ Kì.'], 'explanation': []}\n",
      "2 10 Cầu 5. Sau khi giành được độc lập, nhóm năm nước sáng lập ASEAN thực hiện chiến\n",
      "{'title': ['Câu 1. Hội nghị Ianta (2-1945) không đưa ra quyết định nào dưới đây?', 'Câu 2. Ngày 24-10-1945, sau khi Quốc hội các nước thành viên phê chuẩn, bản Hiến', 'chương của Liên hợp quốc', 'Câu 3. Những năm đầu sau khi Liên Xô tan rã, Diện bang Nga thực hiện chính sách', 'đối ngoại ngả về phương Tây với hi vọng', 'Câu 4. Tại Quốc hội Mĩ (12-3-1947), Tổng thống Truman đề nghị'], 'answer': ['A. Thành lập tổ chức Liên hợp quốc.', 'B. Giải giáp quân Nhật ở Đông Dương.', 'C. Tiêu diệt tận gốc chủ nghĩa phát xít.', 'D. Phân chia phạm vi ảnh hưởng ở châu Âu, châu Á.', 'A. được bổ sung, hoàn chỉnh.', 'È, chính thức được công bố.', 'C. chính thức có hiệu lực.', 'D. được chính thức thông qua.', 'A. thành lập một liên minh chính trị ở châu Âu.', 'B. xây dựng một liên minh kinh tế lớn ở châu Âu.', 'C. nhận được sự ủng hộ về chính trị và sự viện trợ về kinh tế.', 'D. tăng cường hợp lắc khoa học kĩ thuật với các nước châu Âu.', 'A. thành lập Tổ chức Hiệp ước Bắc Đại Tây Dương (NATO).', 'B. giúp đỡ nước Pháp kéo dài cuộc chiến tranh Đông Dương.', 'C, thực hiện Kế hoạch Mácsan, giúp Tây Âu phục hồi kinh tế.', 'D. viện trợ khẩn cấp 400 triệu USD cho Hi Lạp và Thổ Nhĩ Kì.', 'Cầu 5. Sau khi giành được độc lập, nhóm năm nước sáng lập ASEAN thực hiện chiến'], 'explanation': []}\n",
      "2 10 Tược kinh tế hướng nội với mục tiêu\n",
      "{'title': ['Câu 1. Hội nghị Ianta (2-1945) không đưa ra quyết định nào dưới đây?', 'Câu 2. Ngày 24-10-1945, sau khi Quốc hội các nước thành viên phê chuẩn, bản Hiến', 'chương của Liên hợp quốc', 'Câu 3. Những năm đầu sau khi Liên Xô tan rã, Diện bang Nga thực hiện chính sách', 'đối ngoại ngả về phương Tây với hi vọng', 'Câu 4. Tại Quốc hội Mĩ (12-3-1947), Tổng thống Truman đề nghị'], 'answer': ['A. Thành lập tổ chức Liên hợp quốc.', 'B. Giải giáp quân Nhật ở Đông Dương.', 'C. Tiêu diệt tận gốc chủ nghĩa phát xít.', 'D. Phân chia phạm vi ảnh hưởng ở châu Âu, châu Á.', 'A. được bổ sung, hoàn chỉnh.', 'È, chính thức được công bố.', 'C. chính thức có hiệu lực.', 'D. được chính thức thông qua.', 'A. thành lập một liên minh chính trị ở châu Âu.', 'B. xây dựng một liên minh kinh tế lớn ở châu Âu.', 'C. nhận được sự ủng hộ về chính trị và sự viện trợ về kinh tế.', 'D. tăng cường hợp lắc khoa học kĩ thuật với các nước châu Âu.', 'A. thành lập Tổ chức Hiệp ước Bắc Đại Tây Dương (NATO).', 'B. giúp đỡ nước Pháp kéo dài cuộc chiến tranh Đông Dương.', 'C, thực hiện Kế hoạch Mácsan, giúp Tây Âu phục hồi kinh tế.', 'D. viện trợ khẩn cấp 400 triệu USD cho Hi Lạp và Thổ Nhĩ Kì.', 'Cầu 5. Sau khi giành được độc lập, nhóm năm nước sáng lập ASEAN thực hiện chiến', 'Tược kinh tế hướng nội với mục tiêu'], 'explanation': []}\n",
      "2 10 À. khôi phục sự phát triển của các ngành công nghiệp nặng ở các nước.\n",
      "{'title': ['Câu 1. Hội nghị Ianta (2-1945) không đưa ra quyết định nào dưới đây?', 'Câu 2. Ngày 24-10-1945, sau khi Quốc hội các nước thành viên phê chuẩn, bản Hiến', 'chương của Liên hợp quốc', 'Câu 3. Những năm đầu sau khi Liên Xô tan rã, Diện bang Nga thực hiện chính sách', 'đối ngoại ngả về phương Tây với hi vọng', 'Câu 4. Tại Quốc hội Mĩ (12-3-1947), Tổng thống Truman đề nghị'], 'answer': ['A. Thành lập tổ chức Liên hợp quốc.', 'B. Giải giáp quân Nhật ở Đông Dương.', 'C. Tiêu diệt tận gốc chủ nghĩa phát xít.', 'D. Phân chia phạm vi ảnh hưởng ở châu Âu, châu Á.', 'A. được bổ sung, hoàn chỉnh.', 'È, chính thức được công bố.', 'C. chính thức có hiệu lực.', 'D. được chính thức thông qua.', 'A. thành lập một liên minh chính trị ở châu Âu.', 'B. xây dựng một liên minh kinh tế lớn ở châu Âu.', 'C. nhận được sự ủng hộ về chính trị và sự viện trợ về kinh tế.', 'D. tăng cường hợp lắc khoa học kĩ thuật với các nước châu Âu.', 'A. thành lập Tổ chức Hiệp ước Bắc Đại Tây Dương (NATO).', 'B. giúp đỡ nước Pháp kéo dài cuộc chiến tranh Đông Dương.', 'C, thực hiện Kế hoạch Mácsan, giúp Tây Âu phục hồi kinh tế.', 'D. viện trợ khẩn cấp 400 triệu USD cho Hi Lạp và Thổ Nhĩ Kì.', 'Cầu 5. Sau khi giành được độc lập, nhóm năm nước sáng lập ASEAN thực hiện chiến', 'Tược kinh tế hướng nội với mục tiêu', 'À. khôi phục sự phát triển của các ngành công nghiệp nặng ở các nước.'], 'explanation': []}\n",
      "2 10 B. nhanh chóng xóa bỏ nghèo nàn, lạc hậu, xây dựng nền kinh tế tự chủ.\n",
      "{'title': ['Câu 1. Hội nghị Ianta (2-1945) không đưa ra quyết định nào dưới đây?', 'Câu 2. Ngày 24-10-1945, sau khi Quốc hội các nước thành viên phê chuẩn, bản Hiến', 'chương của Liên hợp quốc', 'Câu 3. Những năm đầu sau khi Liên Xô tan rã, Diện bang Nga thực hiện chính sách', 'đối ngoại ngả về phương Tây với hi vọng', 'Câu 4. Tại Quốc hội Mĩ (12-3-1947), Tổng thống Truman đề nghị'], 'answer': ['A. Thành lập tổ chức Liên hợp quốc.', 'B. Giải giáp quân Nhật ở Đông Dương.', 'C. Tiêu diệt tận gốc chủ nghĩa phát xít.', 'D. Phân chia phạm vi ảnh hưởng ở châu Âu, châu Á.', 'A. được bổ sung, hoàn chỉnh.', 'È, chính thức được công bố.', 'C. chính thức có hiệu lực.', 'D. được chính thức thông qua.', 'A. thành lập một liên minh chính trị ở châu Âu.', 'B. xây dựng một liên minh kinh tế lớn ở châu Âu.', 'C. nhận được sự ủng hộ về chính trị và sự viện trợ về kinh tế.', 'D. tăng cường hợp lắc khoa học kĩ thuật với các nước châu Âu.', 'A. thành lập Tổ chức Hiệp ước Bắc Đại Tây Dương (NATO).', 'B. giúp đỡ nước Pháp kéo dài cuộc chiến tranh Đông Dương.', 'C, thực hiện Kế hoạch Mácsan, giúp Tây Âu phục hồi kinh tế.', 'D. viện trợ khẩn cấp 400 triệu USD cho Hi Lạp và Thổ Nhĩ Kì.', 'Cầu 5. Sau khi giành được độc lập, nhóm năm nước sáng lập ASEAN thực hiện chiến', 'Tược kinh tế hướng nội với mục tiêu', 'À. khôi phục sự phát triển của các ngành công nghiệp nặng ở các nước.', 'B. nhanh chóng xóa bỏ nghèo nàn, lạc hậu, xây dựng nền kinh tế tự chủ.'], 'explanation': []}\n",
      "2 10 C. nhanh chóng vươn lên trở thành những nước công nghiệp mới (NICs).\n",
      "{'title': ['Câu 1. Hội nghị Ianta (2-1945) không đưa ra quyết định nào dưới đây?', 'Câu 2. Ngày 24-10-1945, sau khi Quốc hội các nước thành viên phê chuẩn, bản Hiến', 'chương của Liên hợp quốc', 'Câu 3. Những năm đầu sau khi Liên Xô tan rã, Diện bang Nga thực hiện chính sách', 'đối ngoại ngả về phương Tây với hi vọng', 'Câu 4. Tại Quốc hội Mĩ (12-3-1947), Tổng thống Truman đề nghị'], 'answer': ['A. Thành lập tổ chức Liên hợp quốc.', 'B. Giải giáp quân Nhật ở Đông Dương.', 'C. Tiêu diệt tận gốc chủ nghĩa phát xít.', 'D. Phân chia phạm vi ảnh hưởng ở châu Âu, châu Á.', 'A. được bổ sung, hoàn chỉnh.', 'È, chính thức được công bố.', 'C. chính thức có hiệu lực.', 'D. được chính thức thông qua.', 'A. thành lập một liên minh chính trị ở châu Âu.', 'B. xây dựng một liên minh kinh tế lớn ở châu Âu.', 'C. nhận được sự ủng hộ về chính trị và sự viện trợ về kinh tế.', 'D. tăng cường hợp lắc khoa học kĩ thuật với các nước châu Âu.', 'A. thành lập Tổ chức Hiệp ước Bắc Đại Tây Dương (NATO).', 'B. giúp đỡ nước Pháp kéo dài cuộc chiến tranh Đông Dương.', 'C, thực hiện Kế hoạch Mácsan, giúp Tây Âu phục hồi kinh tế.', 'D. viện trợ khẩn cấp 400 triệu USD cho Hi Lạp và Thổ Nhĩ Kì.', 'Cầu 5. Sau khi giành được độc lập, nhóm năm nước sáng lập ASEAN thực hiện chiến', 'Tược kinh tế hướng nội với mục tiêu', 'À. khôi phục sự phát triển của các ngành công nghiệp nặng ở các nước.', 'B. nhanh chóng xóa bỏ nghèo nàn, lạc hậu, xây dựng nền kinh tế tự chủ.', 'C. nhanh chóng vươn lên trở thành những nước công nghiệp mới (NICs).'], 'explanation': []}\n",
      "2 10 D. thúc đẩy tốc độ tăng trưởng của các ngành công nghiệp nhẹ trong nước.\n",
      "{'title': ['Câu 1. Hội nghị Ianta (2-1945) không đưa ra quyết định nào dưới đây?', 'Câu 2. Ngày 24-10-1945, sau khi Quốc hội các nước thành viên phê chuẩn, bản Hiến', 'chương của Liên hợp quốc', 'Câu 3. Những năm đầu sau khi Liên Xô tan rã, Diện bang Nga thực hiện chính sách', 'đối ngoại ngả về phương Tây với hi vọng', 'Câu 4. Tại Quốc hội Mĩ (12-3-1947), Tổng thống Truman đề nghị'], 'answer': ['A. Thành lập tổ chức Liên hợp quốc.', 'B. Giải giáp quân Nhật ở Đông Dương.', 'C. Tiêu diệt tận gốc chủ nghĩa phát xít.', 'D. Phân chia phạm vi ảnh hưởng ở châu Âu, châu Á.', 'A. được bổ sung, hoàn chỉnh.', 'È, chính thức được công bố.', 'C. chính thức có hiệu lực.', 'D. được chính thức thông qua.', 'A. thành lập một liên minh chính trị ở châu Âu.', 'B. xây dựng một liên minh kinh tế lớn ở châu Âu.', 'C. nhận được sự ủng hộ về chính trị và sự viện trợ về kinh tế.', 'D. tăng cường hợp lắc khoa học kĩ thuật với các nước châu Âu.', 'A. thành lập Tổ chức Hiệp ước Bắc Đại Tây Dương (NATO).', 'B. giúp đỡ nước Pháp kéo dài cuộc chiến tranh Đông Dương.', 'C, thực hiện Kế hoạch Mácsan, giúp Tây Âu phục hồi kinh tế.', 'D. viện trợ khẩn cấp 400 triệu USD cho Hi Lạp và Thổ Nhĩ Kì.', 'Cầu 5. Sau khi giành được độc lập, nhóm năm nước sáng lập ASEAN thực hiện chiến', 'Tược kinh tế hướng nội với mục tiêu', 'À. khôi phục sự phát triển của các ngành công nghiệp nặng ở các nước.', 'B. nhanh chóng xóa bỏ nghèo nàn, lạc hậu, xây dựng nền kinh tế tự chủ.', 'C. nhanh chóng vươn lên trở thành những nước công nghiệp mới (NICs).', 'D. thúc đẩy tốc độ tăng trưởng của các ngành công nghiệp nhẹ trong nước.'], 'explanation': []}\n",
      "0 11 Câu 6. Ngoài việc giúp các nước Tây Âu phục hồi nền kinh tế, Kế hoạch Mácsan của\n",
      "{'title': ['Câu 1. Hội nghị Ianta (2-1945) không đưa ra quyết định nào dưới đây?', 'Câu 2. Ngày 24-10-1945, sau khi Quốc hội các nước thành viên phê chuẩn, bản Hiến', 'chương của Liên hợp quốc', 'Câu 3. Những năm đầu sau khi Liên Xô tan rã, Diện bang Nga thực hiện chính sách', 'đối ngoại ngả về phương Tây với hi vọng', 'Câu 4. Tại Quốc hội Mĩ (12-3-1947), Tổng thống Truman đề nghị', 'Câu 6. Ngoài việc giúp các nước Tây Âu phục hồi nền kinh tế, Kế hoạch Mácsan của'], 'answer': ['A. Thành lập tổ chức Liên hợp quốc.', 'B. Giải giáp quân Nhật ở Đông Dương.', 'C. Tiêu diệt tận gốc chủ nghĩa phát xít.', 'D. Phân chia phạm vi ảnh hưởng ở châu Âu, châu Á.', 'A. được bổ sung, hoàn chỉnh.', 'È, chính thức được công bố.', 'C. chính thức có hiệu lực.', 'D. được chính thức thông qua.', 'A. thành lập một liên minh chính trị ở châu Âu.', 'B. xây dựng một liên minh kinh tế lớn ở châu Âu.', 'C. nhận được sự ủng hộ về chính trị và sự viện trợ về kinh tế.', 'D. tăng cường hợp lắc khoa học kĩ thuật với các nước châu Âu.', 'A. thành lập Tổ chức Hiệp ước Bắc Đại Tây Dương (NATO).', 'B. giúp đỡ nước Pháp kéo dài cuộc chiến tranh Đông Dương.', 'C, thực hiện Kế hoạch Mácsan, giúp Tây Âu phục hồi kinh tế.', 'D. viện trợ khẩn cấp 400 triệu USD cho Hi Lạp và Thổ Nhĩ Kì.', 'Cầu 5. Sau khi giành được độc lập, nhóm năm nước sáng lập ASEAN thực hiện chiến', 'Tược kinh tế hướng nội với mục tiêu', 'À. khôi phục sự phát triển của các ngành công nghiệp nặng ở các nước.', 'B. nhanh chóng xóa bỏ nghèo nàn, lạc hậu, xây dựng nền kinh tế tự chủ.', 'C. nhanh chóng vươn lên trở thành những nước công nghiệp mới (NICs).', 'D. thúc đẩy tốc độ tăng trưởng của các ngành công nghiệp nhẹ trong nước.'], 'explanation': []}\n",
      "0 11 Mĩ (1947) còn nhằm tập hợp các nước Tây Âu vào\n",
      "{'title': ['Câu 1. Hội nghị Ianta (2-1945) không đưa ra quyết định nào dưới đây?', 'Câu 2. Ngày 24-10-1945, sau khi Quốc hội các nước thành viên phê chuẩn, bản Hiến', 'chương của Liên hợp quốc', 'Câu 3. Những năm đầu sau khi Liên Xô tan rã, Diện bang Nga thực hiện chính sách', 'đối ngoại ngả về phương Tây với hi vọng', 'Câu 4. Tại Quốc hội Mĩ (12-3-1947), Tổng thống Truman đề nghị', 'Câu 6. Ngoài việc giúp các nước Tây Âu phục hồi nền kinh tế, Kế hoạch Mácsan của', 'Mĩ (1947) còn nhằm tập hợp các nước Tây Âu vào'], 'answer': ['A. Thành lập tổ chức Liên hợp quốc.', 'B. Giải giáp quân Nhật ở Đông Dương.', 'C. Tiêu diệt tận gốc chủ nghĩa phát xít.', 'D. Phân chia phạm vi ảnh hưởng ở châu Âu, châu Á.', 'A. được bổ sung, hoàn chỉnh.', 'È, chính thức được công bố.', 'C. chính thức có hiệu lực.', 'D. được chính thức thông qua.', 'A. thành lập một liên minh chính trị ở châu Âu.', 'B. xây dựng một liên minh kinh tế lớn ở châu Âu.', 'C. nhận được sự ủng hộ về chính trị và sự viện trợ về kinh tế.', 'D. tăng cường hợp lắc khoa học kĩ thuật với các nước châu Âu.', 'A. thành lập Tổ chức Hiệp ước Bắc Đại Tây Dương (NATO).', 'B. giúp đỡ nước Pháp kéo dài cuộc chiến tranh Đông Dương.', 'C, thực hiện Kế hoạch Mácsan, giúp Tây Âu phục hồi kinh tế.', 'D. viện trợ khẩn cấp 400 triệu USD cho Hi Lạp và Thổ Nhĩ Kì.', 'Cầu 5. Sau khi giành được độc lập, nhóm năm nước sáng lập ASEAN thực hiện chiến', 'Tược kinh tế hướng nội với mục tiêu', 'À. khôi phục sự phát triển của các ngành công nghiệp nặng ở các nước.', 'B. nhanh chóng xóa bỏ nghèo nàn, lạc hậu, xây dựng nền kinh tế tự chủ.', 'C. nhanh chóng vươn lên trở thành những nước công nghiệp mới (NICs).', 'D. thúc đẩy tốc độ tăng trưởng của các ngành công nghiệp nhẹ trong nước.'], 'explanation': []}\n",
      "2 12 A. liên minh kinh tế đối lập với các nước xã hội chủ nghĩa.\n",
      "{'title': ['Câu 1. Hội nghị Ianta (2-1945) không đưa ra quyết định nào dưới đây?', 'Câu 2. Ngày 24-10-1945, sau khi Quốc hội các nước thành viên phê chuẩn, bản Hiến', 'chương của Liên hợp quốc', 'Câu 3. Những năm đầu sau khi Liên Xô tan rã, Diện bang Nga thực hiện chính sách', 'đối ngoại ngả về phương Tây với hi vọng', 'Câu 4. Tại Quốc hội Mĩ (12-3-1947), Tổng thống Truman đề nghị', 'Câu 6. Ngoài việc giúp các nước Tây Âu phục hồi nền kinh tế, Kế hoạch Mácsan của', 'Mĩ (1947) còn nhằm tập hợp các nước Tây Âu vào'], 'answer': ['A. Thành lập tổ chức Liên hợp quốc.', 'B. Giải giáp quân Nhật ở Đông Dương.', 'C. Tiêu diệt tận gốc chủ nghĩa phát xít.', 'D. Phân chia phạm vi ảnh hưởng ở châu Âu, châu Á.', 'A. được bổ sung, hoàn chỉnh.', 'È, chính thức được công bố.', 'C. chính thức có hiệu lực.', 'D. được chính thức thông qua.', 'A. thành lập một liên minh chính trị ở châu Âu.', 'B. xây dựng một liên minh kinh tế lớn ở châu Âu.', 'C. nhận được sự ủng hộ về chính trị và sự viện trợ về kinh tế.', 'D. tăng cường hợp lắc khoa học kĩ thuật với các nước châu Âu.', 'A. thành lập Tổ chức Hiệp ước Bắc Đại Tây Dương (NATO).', 'B. giúp đỡ nước Pháp kéo dài cuộc chiến tranh Đông Dương.', 'C, thực hiện Kế hoạch Mácsan, giúp Tây Âu phục hồi kinh tế.', 'D. viện trợ khẩn cấp 400 triệu USD cho Hi Lạp và Thổ Nhĩ Kì.', 'Cầu 5. Sau khi giành được độc lập, nhóm năm nước sáng lập ASEAN thực hiện chiến', 'Tược kinh tế hướng nội với mục tiêu', 'À. khôi phục sự phát triển của các ngành công nghiệp nặng ở các nước.', 'B. nhanh chóng xóa bỏ nghèo nàn, lạc hậu, xây dựng nền kinh tế tự chủ.', 'C. nhanh chóng vươn lên trở thành những nước công nghiệp mới (NICs).', 'D. thúc đẩy tốc độ tăng trưởng của các ngành công nghiệp nhẹ trong nước.', 'A. liên minh kinh tế đối lập với các nước xã hội chủ nghĩa.'], 'explanation': []}\n",
      "2 12 B. liên minh quân sự chống Liên Xô và các nước Đông Âu.\n",
      "{'title': ['Câu 1. Hội nghị Ianta (2-1945) không đưa ra quyết định nào dưới đây?', 'Câu 2. Ngày 24-10-1945, sau khi Quốc hội các nước thành viên phê chuẩn, bản Hiến', 'chương của Liên hợp quốc', 'Câu 3. Những năm đầu sau khi Liên Xô tan rã, Diện bang Nga thực hiện chính sách', 'đối ngoại ngả về phương Tây với hi vọng', 'Câu 4. Tại Quốc hội Mĩ (12-3-1947), Tổng thống Truman đề nghị', 'Câu 6. Ngoài việc giúp các nước Tây Âu phục hồi nền kinh tế, Kế hoạch Mácsan của', 'Mĩ (1947) còn nhằm tập hợp các nước Tây Âu vào'], 'answer': ['A. Thành lập tổ chức Liên hợp quốc.', 'B. Giải giáp quân Nhật ở Đông Dương.', 'C. Tiêu diệt tận gốc chủ nghĩa phát xít.', 'D. Phân chia phạm vi ảnh hưởng ở châu Âu, châu Á.', 'A. được bổ sung, hoàn chỉnh.', 'È, chính thức được công bố.', 'C. chính thức có hiệu lực.', 'D. được chính thức thông qua.', 'A. thành lập một liên minh chính trị ở châu Âu.', 'B. xây dựng một liên minh kinh tế lớn ở châu Âu.', 'C. nhận được sự ủng hộ về chính trị và sự viện trợ về kinh tế.', 'D. tăng cường hợp lắc khoa học kĩ thuật với các nước châu Âu.', 'A. thành lập Tổ chức Hiệp ước Bắc Đại Tây Dương (NATO).', 'B. giúp đỡ nước Pháp kéo dài cuộc chiến tranh Đông Dương.', 'C, thực hiện Kế hoạch Mácsan, giúp Tây Âu phục hồi kinh tế.', 'D. viện trợ khẩn cấp 400 triệu USD cho Hi Lạp và Thổ Nhĩ Kì.', 'Cầu 5. Sau khi giành được độc lập, nhóm năm nước sáng lập ASEAN thực hiện chiến', 'Tược kinh tế hướng nội với mục tiêu', 'À. khôi phục sự phát triển của các ngành công nghiệp nặng ở các nước.', 'B. nhanh chóng xóa bỏ nghèo nàn, lạc hậu, xây dựng nền kinh tế tự chủ.', 'C. nhanh chóng vươn lên trở thành những nước công nghiệp mới (NICs).', 'D. thúc đẩy tốc độ tăng trưởng của các ngành công nghiệp nhẹ trong nước.', 'A. liên minh kinh tế đối lập với các nước xã hội chủ nghĩa.', 'B. liên minh quân sự chống Liên Xô và các nước Đông Âu.'], 'explanation': []}\n",
      "2 12 C. liên minh chính trị chống Liên Xô và các nước Đông Âu.\n",
      "{'title': ['Câu 1. Hội nghị Ianta (2-1945) không đưa ra quyết định nào dưới đây?', 'Câu 2. Ngày 24-10-1945, sau khi Quốc hội các nước thành viên phê chuẩn, bản Hiến', 'chương của Liên hợp quốc', 'Câu 3. Những năm đầu sau khi Liên Xô tan rã, Diện bang Nga thực hiện chính sách', 'đối ngoại ngả về phương Tây với hi vọng', 'Câu 4. Tại Quốc hội Mĩ (12-3-1947), Tổng thống Truman đề nghị', 'Câu 6. Ngoài việc giúp các nước Tây Âu phục hồi nền kinh tế, Kế hoạch Mácsan của', 'Mĩ (1947) còn nhằm tập hợp các nước Tây Âu vào'], 'answer': ['A. Thành lập tổ chức Liên hợp quốc.', 'B. Giải giáp quân Nhật ở Đông Dương.', 'C. Tiêu diệt tận gốc chủ nghĩa phát xít.', 'D. Phân chia phạm vi ảnh hưởng ở châu Âu, châu Á.', 'A. được bổ sung, hoàn chỉnh.', 'È, chính thức được công bố.', 'C. chính thức có hiệu lực.', 'D. được chính thức thông qua.', 'A. thành lập một liên minh chính trị ở châu Âu.', 'B. xây dựng một liên minh kinh tế lớn ở châu Âu.', 'C. nhận được sự ủng hộ về chính trị và sự viện trợ về kinh tế.', 'D. tăng cường hợp lắc khoa học kĩ thuật với các nước châu Âu.', 'A. thành lập Tổ chức Hiệp ước Bắc Đại Tây Dương (NATO).', 'B. giúp đỡ nước Pháp kéo dài cuộc chiến tranh Đông Dương.', 'C, thực hiện Kế hoạch Mácsan, giúp Tây Âu phục hồi kinh tế.', 'D. viện trợ khẩn cấp 400 triệu USD cho Hi Lạp và Thổ Nhĩ Kì.', 'Cầu 5. Sau khi giành được độc lập, nhóm năm nước sáng lập ASEAN thực hiện chiến', 'Tược kinh tế hướng nội với mục tiêu', 'À. khôi phục sự phát triển của các ngành công nghiệp nặng ở các nước.', 'B. nhanh chóng xóa bỏ nghèo nàn, lạc hậu, xây dựng nền kinh tế tự chủ.', 'C. nhanh chóng vươn lên trở thành những nước công nghiệp mới (NICs).', 'D. thúc đẩy tốc độ tăng trưởng của các ngành công nghiệp nhẹ trong nước.', 'A. liên minh kinh tế đối lập với các nước xã hội chủ nghĩa.', 'B. liên minh quân sự chống Liên Xô và các nước Đông Âu.', 'C. liên minh chính trị chống Liên Xô và các nước Đông Âu.'], 'explanation': []}\n",
      "2 12 D. tổ chức chính trị-quân sự chống lại phe xã hội chủ nghĩa.\n",
      "{'title': ['Câu 1. Hội nghị Ianta (2-1945) không đưa ra quyết định nào dưới đây?', 'Câu 2. Ngày 24-10-1945, sau khi Quốc hội các nước thành viên phê chuẩn, bản Hiến', 'chương của Liên hợp quốc', 'Câu 3. Những năm đầu sau khi Liên Xô tan rã, Diện bang Nga thực hiện chính sách', 'đối ngoại ngả về phương Tây với hi vọng', 'Câu 4. Tại Quốc hội Mĩ (12-3-1947), Tổng thống Truman đề nghị', 'Câu 6. Ngoài việc giúp các nước Tây Âu phục hồi nền kinh tế, Kế hoạch Mácsan của', 'Mĩ (1947) còn nhằm tập hợp các nước Tây Âu vào'], 'answer': ['A. Thành lập tổ chức Liên hợp quốc.', 'B. Giải giáp quân Nhật ở Đông Dương.', 'C. Tiêu diệt tận gốc chủ nghĩa phát xít.', 'D. Phân chia phạm vi ảnh hưởng ở châu Âu, châu Á.', 'A. được bổ sung, hoàn chỉnh.', 'È, chính thức được công bố.', 'C. chính thức có hiệu lực.', 'D. được chính thức thông qua.', 'A. thành lập một liên minh chính trị ở châu Âu.', 'B. xây dựng một liên minh kinh tế lớn ở châu Âu.', 'C. nhận được sự ủng hộ về chính trị và sự viện trợ về kinh tế.', 'D. tăng cường hợp lắc khoa học kĩ thuật với các nước châu Âu.', 'A. thành lập Tổ chức Hiệp ước Bắc Đại Tây Dương (NATO).', 'B. giúp đỡ nước Pháp kéo dài cuộc chiến tranh Đông Dương.', 'C, thực hiện Kế hoạch Mácsan, giúp Tây Âu phục hồi kinh tế.', 'D. viện trợ khẩn cấp 400 triệu USD cho Hi Lạp và Thổ Nhĩ Kì.', 'Cầu 5. Sau khi giành được độc lập, nhóm năm nước sáng lập ASEAN thực hiện chiến', 'Tược kinh tế hướng nội với mục tiêu', 'À. khôi phục sự phát triển của các ngành công nghiệp nặng ở các nước.', 'B. nhanh chóng xóa bỏ nghèo nàn, lạc hậu, xây dựng nền kinh tế tự chủ.', 'C. nhanh chóng vươn lên trở thành những nước công nghiệp mới (NICs).', 'D. thúc đẩy tốc độ tăng trưởng của các ngành công nghiệp nhẹ trong nước.', 'A. liên minh kinh tế đối lập với các nước xã hội chủ nghĩa.', 'B. liên minh quân sự chống Liên Xô và các nước Đông Âu.', 'C. liên minh chính trị chống Liên Xô và các nước Đông Âu.', 'D. tổ chức chính trị-quân sự chống lại phe xã hội chủ nghĩa.'], 'explanation': []}\n",
      "5 13 Facebook: Học cùng Vietjack\n",
      "{'title': ['Câu 1. Hội nghị Ianta (2-1945) không đưa ra quyết định nào dưới đây?', 'Câu 2. Ngày 24-10-1945, sau khi Quốc hội các nước thành viên phê chuẩn, bản Hiến', 'chương của Liên hợp quốc', 'Câu 3. Những năm đầu sau khi Liên Xô tan rã, Diện bang Nga thực hiện chính sách', 'đối ngoại ngả về phương Tây với hi vọng', 'Câu 4. Tại Quốc hội Mĩ (12-3-1947), Tổng thống Truman đề nghị', 'Câu 6. Ngoài việc giúp các nước Tây Âu phục hồi nền kinh tế, Kế hoạch Mácsan của', 'Mĩ (1947) còn nhằm tập hợp các nước Tây Âu vào'], 'answer': ['A. Thành lập tổ chức Liên hợp quốc.', 'B. Giải giáp quân Nhật ở Đông Dương.', 'C. Tiêu diệt tận gốc chủ nghĩa phát xít.', 'D. Phân chia phạm vi ảnh hưởng ở châu Âu, châu Á.', 'A. được bổ sung, hoàn chỉnh.', 'È, chính thức được công bố.', 'C. chính thức có hiệu lực.', 'D. được chính thức thông qua.', 'A. thành lập một liên minh chính trị ở châu Âu.', 'B. xây dựng một liên minh kinh tế lớn ở châu Âu.', 'C. nhận được sự ủng hộ về chính trị và sự viện trợ về kinh tế.', 'D. tăng cường hợp lắc khoa học kĩ thuật với các nước châu Âu.', 'A. thành lập Tổ chức Hiệp ước Bắc Đại Tây Dương (NATO).', 'B. giúp đỡ nước Pháp kéo dài cuộc chiến tranh Đông Dương.', 'C, thực hiện Kế hoạch Mácsan, giúp Tây Âu phục hồi kinh tế.', 'D. viện trợ khẩn cấp 400 triệu USD cho Hi Lạp và Thổ Nhĩ Kì.', 'Cầu 5. Sau khi giành được độc lập, nhóm năm nước sáng lập ASEAN thực hiện chiến', 'Tược kinh tế hướng nội với mục tiêu', 'À. khôi phục sự phát triển của các ngành công nghiệp nặng ở các nước.', 'B. nhanh chóng xóa bỏ nghèo nàn, lạc hậu, xây dựng nền kinh tế tự chủ.', 'C. nhanh chóng vươn lên trở thành những nước công nghiệp mới (NICs).', 'D. thúc đẩy tốc độ tăng trưởng của các ngành công nghiệp nhẹ trong nước.', 'A. liên minh kinh tế đối lập với các nước xã hội chủ nghĩa.', 'B. liên minh quân sự chống Liên Xô và các nước Đông Âu.', 'C. liên minh chính trị chống Liên Xô và các nước Đông Âu.', 'D. tổ chức chính trị-quân sự chống lại phe xã hội chủ nghĩa.'], 'explanation': []}\n",
      "5 13 Youtube:Học cùng Vietjack\n",
      "{'title': ['Câu 1. Hội nghị Ianta (2-1945) không đưa ra quyết định nào dưới đây?', 'Câu 2. Ngày 24-10-1945, sau khi Quốc hội các nước thành viên phê chuẩn, bản Hiến', 'chương của Liên hợp quốc', 'Câu 3. Những năm đầu sau khi Liên Xô tan rã, Diện bang Nga thực hiện chính sách', 'đối ngoại ngả về phương Tây với hi vọng', 'Câu 4. Tại Quốc hội Mĩ (12-3-1947), Tổng thống Truman đề nghị', 'Câu 6. Ngoài việc giúp các nước Tây Âu phục hồi nền kinh tế, Kế hoạch Mácsan của', 'Mĩ (1947) còn nhằm tập hợp các nước Tây Âu vào'], 'answer': ['A. Thành lập tổ chức Liên hợp quốc.', 'B. Giải giáp quân Nhật ở Đông Dương.', 'C. Tiêu diệt tận gốc chủ nghĩa phát xít.', 'D. Phân chia phạm vi ảnh hưởng ở châu Âu, châu Á.', 'A. được bổ sung, hoàn chỉnh.', 'È, chính thức được công bố.', 'C. chính thức có hiệu lực.', 'D. được chính thức thông qua.', 'A. thành lập một liên minh chính trị ở châu Âu.', 'B. xây dựng một liên minh kinh tế lớn ở châu Âu.', 'C. nhận được sự ủng hộ về chính trị và sự viện trợ về kinh tế.', 'D. tăng cường hợp lắc khoa học kĩ thuật với các nước châu Âu.', 'A. thành lập Tổ chức Hiệp ước Bắc Đại Tây Dương (NATO).', 'B. giúp đỡ nước Pháp kéo dài cuộc chiến tranh Đông Dương.', 'C, thực hiện Kế hoạch Mácsan, giúp Tây Âu phục hồi kinh tế.', 'D. viện trợ khẩn cấp 400 triệu USD cho Hi Lạp và Thổ Nhĩ Kì.', 'Cầu 5. Sau khi giành được độc lập, nhóm năm nước sáng lập ASEAN thực hiện chiến', 'Tược kinh tế hướng nội với mục tiêu', 'À. khôi phục sự phát triển của các ngành công nghiệp nặng ở các nước.', 'B. nhanh chóng xóa bỏ nghèo nàn, lạc hậu, xây dựng nền kinh tế tự chủ.', 'C. nhanh chóng vươn lên trở thành những nước công nghiệp mới (NICs).', 'D. thúc đẩy tốc độ tăng trưởng của các ngành công nghiệp nhẹ trong nước.', 'A. liên minh kinh tế đối lập với các nước xã hội chủ nghĩa.', 'B. liên minh quân sự chống Liên Xô và các nước Đông Âu.', 'C. liên minh chính trị chống Liên Xô và các nước Đông Âu.', 'D. tổ chức chính trị-quân sự chống lại phe xã hội chủ nghĩa.'], 'explanation': []}\n"
     ]
    },
    {
     "data": {
      "text/plain": "{}"
     },
     "execution_count": 40,
     "metadata": {},
     "output_type": "execute_result"
    }
   ],
   "source": [
    "question_temp = {\n",
    "    \"title\": [],\n",
    "    \"answer\": [],\n",
    "    \"explanation\": []\n",
    "}\n",
    "\n",
    "label2id = {\n",
    "    \"answer\": 2,\n",
    "    \"ending\": 6,\n",
    "    \"explanation\": 1,\n",
    "    \"footer\": 5,\n",
    "    \"header\": 4,\n",
    "    \"heading\": 7,\n",
    "    \"starting\": 8,\n",
    "    \"super_title\": 3,\n",
    "    \"title\": 0\n",
    "  }\n",
    "\n",
    "question_list = {}\n",
    "prev_id = 0\n",
    "prev_section = 0\n",
    "prev_type = None\n",
    "current_question = question_temp.copy()\n",
    "for indx, rows in line_df.iterrows():\n",
    "    print(rows[3], rows['section'], rows[2])\n",
    "    current_section = rows['section']\n",
    "    current_type = rows[3]\n",
    "\n",
    "    for type in question_def:\n",
    "        type_name = id2label[type]\n",
    "        cond_check = False\n",
    "        if current_type == type:\n",
    "            current_question[type_name].append(rows[2])\n",
    "            cond_check = True\n",
    "\n",
    "        if cond_check:\n",
    "            break\n",
    "    print(current_question)\n",
    "    if current_type == question_def[-1]:\n",
    "        question_list[prev_id+1]=current_question\n",
    "        current_question = question_temp.copy()\n",
    "        prev_id+=1\n",
    "\n",
    "\n",
    "\n",
    "question_list\n",
    "\n"
   ],
   "metadata": {
    "collapsed": false
   }
  },
  {
   "cell_type": "code",
   "execution_count": 16,
   "outputs": [
    {
     "name": "stdout",
     "output_type": "stream",
     "text": [
      "{9: {'title': [([114, 257], [794, 278], 'Câu 1. Hội nghị Ianta (2-1945) không đưa ra quyết định nào dưới đây?', 0)]}, 14: {'title': [([113, 365], [926, 386], 'Câu 2. Ngày 24-10-1945, sau khi Quốc hội các nước thành viên phê chuẩn, bản Hiến', 0)]}, 15: {'title': [([115, 387], [373, 408], 'chương của Liên hợp quốc', 0)]}, 18: {'title': [([113, 449], [909, 471], 'Câu 3. Những năm đầu sau khi Liên Xô tan rã, Diện bang Nga thực hiện chính sách', 0)]}, 19: {'title': [([115, 471], [512, 493], 'đối ngoại ngả về phương Tây với hi vọng', 0)]}, 24: {'title': [([115, 580], [745, 601], 'Câu 4. Tại Quốc hội Mĩ (12-3-1947), Tổng thống Truman đề nghị', 0)]}, 35: {'title': [([114, 815], [926, 836], 'Câu 6. Ngoài việc giúp các nước Tây Âu phục hồi nền kinh tế, Kế hoạch Mácsan của', 0)]}, 36: {'title': [([115, 838], [598, 859], 'Mĩ (1947) còn nhằm tập hợp các nước Tây Âu vào', 0)]}}\n"
     ]
    }
   ],
   "source": [
    "def question_formation(lines):\n",
    "    # find super question\n",
    "    question_list = {}\n",
    "    question_idx = 0\n",
    "    for line_num in lines.keys():\n",
    "        line_boxes = lines[line_num]\n",
    "\n",
    "        for box in line_boxes[1]:\n",
    "            if box[3] not in question_def:\n",
    "                continue\n",
    "\n",
    "            if box[3] == question_def[0]:\n",
    "                if line_num in question_list:\n",
    "                    question_list[line_num][id2label[question_def[0]]].append(box)\n",
    "                else:\n",
    "                    question_list[line_num]={\n",
    "                        id2label[question_def[0]]: [box]\n",
    "                    }\n",
    "\n",
    "\n",
    "\n",
    "\n",
    "    print(question_list)\n",
    "\n",
    "\n",
    "    # with questions dont belong to any superquestion\n",
    "\n",
    "question_formation(lines)"
   ],
   "metadata": {
    "collapsed": false
   }
  },
  {
   "cell_type": "code",
   "execution_count": null,
   "outputs": [],
   "source": [
    "def type_of_next(current_type):\n",
    "    if current_type == 3:\n",
    "        return [3, 0, 2, ]"
   ],
   "metadata": {
    "collapsed": false
   }
  },
  {
   "cell_type": "code",
   "execution_count": 26,
   "outputs": [
    {
     "name": "stdout",
     "output_type": "stream",
     "text": [
      "[([75, 0], [266, 19], 'VIET,JACK.COM', 4), ([342, 0], [835, 20], 'Học trực tuyến: KHOA HỌC.VIETJACK.COM', 4), ([147, 60], [413, 82], 'BỘ GIÀO DỤC VÀ ĐẢO', 8), ([473, 60], [941, 82], 'KY THI TRUNG HỌC PHÔ THÔNG QUỐC', 8), ([251, 78], [310, 98], 'TẠO', 8), ([625, 78], [789, 95], 'GIA NĂM 2017', 8), ([160, 98], [400, 121], 'ĐỀ THI THỬ NGHIỆM', 8), ([508, 97], [908, 119], 'Bài thi: Khoa học xã hội;Môôn: Lịch sử', 8), ([183, 118], [377, 140], '(Đề thi có 05 trang)', 8), ([485, 118], [931, 140], 'Thời gian làm bài: 50 phút, không kể thời gian', 8), ([669, 138], [748, 159], 'phát để', 8), ([630, 180], [774, 198], 'Mã đề thi (01', 8), ([114, 219], [730, 239], 'Họ và tên thí sinh: .......................................................................', 8), ([115, 219], [305, 240], 'Họ và tên thí sinh:', 8), ([114, 238], [707, 258], 'Số báo danh:: .........................................................................', 8), ([115, 238], [251, 258], 'Số báo danh:', 8), ([114, 257], [794, 278], 'Câu 1. Hội nghị Ianta (2-1945) không đưa ra quyết định nào dưới đây?', 0), ([159, 279], [508, 300], 'A. Thành lập tổ chức Liên hợp quốc.', 2), ([159, 301], [532, 322], 'B. Giải giáp quân Nhật ở Đông Dương.', 2), ([159, 322], [529, 343], 'C. Tiêu diệt tận gốc chủ nghĩa phát xít.', 2), ([159, 344], [659, 365], 'D. Phân chia phạm vi ảnh hưởng ở châu Âu, châu Á.', 2), ([113, 365], [926, 386], 'Câu 2. Ngày 24-10-1945, sau khi Quốc hội các nước thành viên phê chuẩn, bản Hiến', 0), ([115, 387], [373, 408], 'chương của Liên hợp quốc', 0), ([160, 407], [443, 428], 'A. được bổ sung, hoàn chỉnh.', 2), ([537, 406], [810, 429], 'È, chính thức được công bố.', 2), ([159, 428], [408, 449], 'C. chính thức có hiệu lực.', 2), ([537, 428], [830, 450], 'D. được chính thức thông qua.', 2), ([113, 449], [909, 471], 'Câu 3. Những năm đầu sau khi Liên Xô tan rã, Diện bang Nga thực hiện chính sách', 0), ([115, 471], [512, 493], 'đối ngoại ngả về phương Tây với hi vọng', 0), ([160, 494], [609, 515], 'A. thành lập một liên minh chính trị ở châu Âu.', 2), ([160, 515], [631, 536], 'B. xây dựng một liên minh kinh tế lớn ở châu Âu.', 2), ([159, 537], [738, 558], 'C. nhận được sự ủng hộ về chính trị và sự viện trợ về kinh tế.', 2), ([159, 559], [759, 579], 'D. tăng cường hợp lắc khoa học kĩ thuật với các nước châu Âu.', 2), ([115, 580], [745, 601], 'Câu 4. Tại Quốc hội Mĩ (12-3-1947), Tổng thống Truman đề nghị', 0), ([160, 602], [741, 622], 'A. thành lập Tổ chức Hiệp ước Bắc Đại Tây Dương (NATO).', 2), ([160, 624], [736, 644], 'B. giúp đỡ nước Pháp kéo dài cuộc chiến tranh Đông Dương.', 2), ([160, 645], [745, 666], 'C, thực hiện Kế hoạch Mácsan, giúp Tây Âu phục hồi kinh tế.', 2), ([160, 666], [756, 687], 'D. viện trợ khẩn cấp 400 triệu USD cho Hi Lạp và Thổ Nhĩ Kì.', 2), ([114, 688], [932, 709], 'Cầu 5. Sau khi giành được độc lập, nhóm năm nước sáng lập ASEAN thực hiện chiến', 2), ([114, 710], [459, 731], 'Tược kinh tế hướng nội với mục tiêu', 2), ([160, 730], [833, 750], 'À. khôi phục sự phát triển của các ngành công nghiệp nặng ở các nước.', 2), ([160, 751], [840, 771], 'B. nhanh chóng xóa bỏ nghèo nàn, lạc hậu, xây dựng nền kinh tế tự chủ.', 2), ([160, 773], [849, 793], 'C. nhanh chóng vươn lên trở thành những nước công nghiệp mới (NICs).', 2), ([160, 794], [862, 814], 'D. thúc đẩy tốc độ tăng trưởng của các ngành công nghiệp nhẹ trong nước.', 2), ([114, 815], [926, 836], 'Câu 6. Ngoài việc giúp các nước Tây Âu phục hồi nền kinh tế, Kế hoạch Mácsan của', 0), ([115, 838], [598, 859], 'Mĩ (1947) còn nhằm tập hợp các nước Tây Âu vào', 0), ([160, 857], [714, 878], 'A. liên minh kinh tế đối lập với các nước xã hội chủ nghĩa.', 2), ([160, 878], [720, 899], 'B. liên minh quân sự chống Liên Xô và các nước Đông Âu.', 2), ([160, 900], [726, 921], 'C. liên minh chính trị chống Liên Xô và các nước Đông Âu.', 2), ([159, 921], [725, 943], 'D. tổ chức chính trị-quân sự chống lại phe xã hội chủ nghĩa.', 2), ([74, 949], [378, 969], 'Facebook: Học cùng Vietjack', 5), ([518, 949], [805, 970], 'Youtube:Học cùng Vietjack', 5)]\n"
     ]
    }
   ],
   "source": [
    "def merge(lines):\n",
    "    reading_order = []\n",
    "    for line_num, boxes in lines.items():\n",
    "        for box in boxes[1]:\n",
    "           reading_order.append(box)\n",
    "\n",
    "    mrg = []\n",
    "    next = []\n",
    "    for box in reading_order:\n",
    "        if len(next) <= 0:\n",
    "            mrg.append([box])\n",
    "\n",
    "        else:\n",
    "\n",
    "\n",
    "        if box[3] == 3:\n",
    "            next = next_of_super_title\n",
    "\n",
    "        elif box[3] == 0:\n",
    "            next = next_of_title\n",
    "\n",
    "        elif box[3] in [1,2]:\n",
    "            next = next_of_answer_or_explanation\n",
    "    print(reading_order)\n",
    "\n",
    "merge(lines)"
   ],
   "metadata": {
    "collapsed": false
   }
  },
  {
   "cell_type": "code",
   "execution_count": null,
   "outputs": [],
   "source": [],
   "metadata": {
    "collapsed": false
   }
  }
 ],
 "metadata": {
  "kernelspec": {
   "display_name": "Python 3",
   "language": "python",
   "name": "python3"
  },
  "language_info": {
   "codemirror_mode": {
    "name": "ipython",
    "version": 2
   },
   "file_extension": ".py",
   "mimetype": "text/x-python",
   "name": "python",
   "nbconvert_exporter": "python",
   "pygments_lexer": "ipython2",
   "version": "2.7.6"
  }
 },
 "nbformat": 4,
 "nbformat_minor": 0
}
